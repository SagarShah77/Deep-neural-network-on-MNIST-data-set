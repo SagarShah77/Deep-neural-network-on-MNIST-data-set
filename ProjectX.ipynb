{
 "cells": [
  {
   "cell_type": "code",
   "execution_count": 136,
   "metadata": {},
   "outputs": [
    {
     "data": {
      "text/plain": [
       "{'COL_NAMES': ['label', 'data'],\n",
       " 'DESCR': 'mldata.org dataset: mnist-original',\n",
       " 'data': array([[0, 0, 0, ..., 0, 0, 0],\n",
       "        [0, 0, 0, ..., 0, 0, 0],\n",
       "        [0, 0, 0, ..., 0, 0, 0],\n",
       "        ..., \n",
       "        [0, 0, 0, ..., 0, 0, 0],\n",
       "        [0, 0, 0, ..., 0, 0, 0],\n",
       "        [0, 0, 0, ..., 0, 0, 0]], dtype=uint8),\n",
       " 'target': array([ 0.,  0.,  0., ...,  9.,  9.,  9.])}"
      ]
     },
     "execution_count": 136,
     "metadata": {},
     "output_type": "execute_result"
    }
   ],
   "source": [
    "import numpy as np\n",
    "from sklearn.datasets import fetch_mldata\n",
    "mnist = fetch_mldata('MNIST original')\n",
    "mnist"
   ]
  },
  {
   "cell_type": "code",
   "execution_count": 137,
   "metadata": {},
   "outputs": [
    {
     "data": {
      "text/plain": [
       "(70000, 784)"
      ]
     },
     "execution_count": 137,
     "metadata": {},
     "output_type": "execute_result"
    }
   ],
   "source": [
    "X, y = mnist[\"data\"], mnist[\"target\"]\n",
    "X.shape"
   ]
  },
  {
   "cell_type": "code",
   "execution_count": 138,
   "metadata": {},
   "outputs": [
    {
     "data": {
      "text/plain": [
       "(70000,)"
      ]
     },
     "execution_count": 138,
     "metadata": {},
     "output_type": "execute_result"
    }
   ],
   "source": [
    "y.shape"
   ]
  },
  {
   "cell_type": "code",
   "execution_count": 4,
   "metadata": {},
   "outputs": [
    {
     "data": {
      "image/png": "[encoded data removed]",
      "text/plain": [
       "<matplotlib.figure.Figure at 0x2014a4d5be0>"
      ]
     },
     "metadata": {},
     "output_type": "display_data"
    }
   ],
   "source": [
    "%matplotlib inline\n",
    "import matplotlib\n",
    "import matplotlib.pyplot as plt\n",
    "some_digit = X[69999]\n",
    "some_digit_image = some_digit.reshape(28, 28)\n",
    "plt.imshow(some_digit_image, cmap = matplotlib.cm.binary,\n",
    "interpolation=\"nearest\")\n",
    "plt.axis(\"off\")\n",
    "plt.show()"
   ]
  },
  {
   "cell_type": "code",
   "execution_count": 5,
   "metadata": {},
   "outputs": [
    {
     "data": {
      "text/plain": [
       "9.0"
      ]
     },
     "execution_count": 5,
     "metadata": {},
     "output_type": "execute_result"
    }
   ],
   "source": [
    "y[69999]"
   ]
  },
  {
   "cell_type": "code",
   "execution_count": 166,
   "metadata": {
    "collapsed": true
   },
   "outputs": [],
   "source": [
    "X_train, X_test, y_train, y_test = X[:60000], X[60000:], y[:60000], y[60000:]"
   ]
  },
  {
   "cell_type": "code",
   "execution_count": 167,
   "metadata": {
    "collapsed": true
   },
   "outputs": [],
   "source": [
    "X2_train, X2_test, y2_train, y2_test = X[:50000], X[50000:], y[:50000], y[50000:]"
   ]
  },
  {
   "cell_type": "code",
   "execution_count": 168,
   "metadata": {},
   "outputs": [
    {
     "data": {
      "text/plain": [
       "(60000, 784)"
      ]
     },
     "execution_count": 168,
     "metadata": {},
     "output_type": "execute_result"
    }
   ],
   "source": [
    "shuffle_index = np.random.permutation(60000)\n",
    "X_train, y_train = X_train[shuffle_index], y_train[shuffle_index]\n",
    "X_train.shape"
   ]
  },
  {
   "cell_type": "code",
   "execution_count": 169,
   "metadata": {},
   "outputs": [
    {
     "data": {
      "text/plain": [
       "(50000, 784)"
      ]
     },
     "execution_count": 169,
     "metadata": {},
     "output_type": "execute_result"
    }
   ],
   "source": [
    "shuffle_index2 = np.random.permutation(50000)\n",
    "X2_train, y2_train = X2_train[shuffle_index2], y2_train[shuffle_index2]\n",
    "X2_train.shape"
   ]
  },
  {
   "cell_type": "code",
   "execution_count": 8,
   "metadata": {
    "collapsed": true
   },
   "outputs": [],
   "source": [
    "y_train_9 = (y_train == 9) # True for all 5s, False for all other digits.\n",
    "y_test_9 = (y_test == 9)"
   ]
  },
  {
   "cell_type": "code",
   "execution_count": 175,
   "metadata": {
    "collapsed": true
   },
   "outputs": [],
   "source": [
    "y2_train_9 = (y2_train == 9) # True for all 5s, False for all other digits.\n",
    "y2_test_9 = (y2_test == 9)"
   ]
  },
  {
   "cell_type": "code",
   "execution_count": 173,
   "metadata": {},
   "outputs": [
    {
     "data": {
      "text/plain": [
       "SGDClassifier(alpha=0.0001, average=False, class_weight=None, epsilon=0.1,\n",
       "       eta0=0.0, fit_intercept=True, l1_ratio=0.15,\n",
       "       learning_rate='optimal', loss='hinge', n_iter=5, n_jobs=1,\n",
       "       penalty='l2', power_t=0.5, random_state=42, shuffle=True, verbose=0,\n",
       "       warm_start=False)"
      ]
     },
     "execution_count": 173,
     "metadata": {},
     "output_type": "execute_result"
    }
   ],
   "source": [
    "from sklearn.linear_model import SGDClassifier\n",
    "sgd_clf = SGDClassifier(random_state=42)\n",
    "sgd_clf.fit(X_train, y_train_9)"
   ]
  },
  {
   "cell_type": "code",
   "execution_count": 177,
   "metadata": {},
   "outputs": [
    {
     "data": {
      "text/plain": [
       "SGDClassifier(alpha=0.0001, average=False, class_weight=None, epsilon=0.1,\n",
       "       eta0=0.0, fit_intercept=True, l1_ratio=0.15,\n",
       "       learning_rate='optimal', loss='hinge', n_iter=5, n_jobs=1,\n",
       "       penalty='l2', power_t=0.5, random_state=20, shuffle=True, verbose=0,\n",
       "       warm_start=False)"
      ]
     },
     "execution_count": 177,
     "metadata": {},
     "output_type": "execute_result"
    }
   ],
   "source": [
    "from sklearn.linear_model import SGDClassifier\n",
    "sgd_clf2 = SGDClassifier(random_state=20)\n",
    "sgd_clf2.fit(X2_train, y2_train)"
   ]
  },
  {
   "cell_type": "code",
   "execution_count": 10,
   "metadata": {},
   "outputs": [
    {
     "data": {
      "text/plain": [
       "array([ True], dtype=bool)"
      ]
     },
     "execution_count": 10,
     "metadata": {},
     "output_type": "execute_result"
    }
   ],
   "source": [
    "sgd_clf.predict([some_digit])"
   ]
  },
  {
   "cell_type": "code",
   "execution_count": 190,
   "metadata": {},
   "outputs": [
    {
     "data": {
      "text/plain": [
       "array([ 0.,  2.,  1., ...,  6.,  0.,  8.])"
      ]
     },
     "execution_count": 190,
     "metadata": {},
     "output_type": "execute_result"
    }
   ],
   "source": [
    "sgd_clf2.predict(X2_train)"
   ]
  },
  {
   "cell_type": "markdown",
   "metadata": {},
   "source": [
    "Accuracy"
   ]
  },
  {
   "cell_type": "code",
   "execution_count": 11,
   "metadata": {},
   "outputs": [
    {
     "data": {
      "text/plain": [
       "array([ 0.945  ,  0.94885,  0.94965])"
      ]
     },
     "execution_count": 11,
     "metadata": {},
     "output_type": "execute_result"
    }
   ],
   "source": [
    "from sklearn.model_selection import cross_val_score\n",
    "cross_val_score(sgd_clf, X_train, y_train_9, cv=3, scoring=\"accuracy\")"
   ]
  },
  {
   "cell_type": "code",
   "execution_count": 179,
   "metadata": {},
   "outputs": [
    {
     "data": {
      "text/plain": [
       "array([ 0.90071986,  0.90939638,  0.9031445 ])"
      ]
     },
     "execution_count": 179,
     "metadata": {},
     "output_type": "execute_result"
    }
   ],
   "source": [
    "cross_val_score(sgd_clf2, X2_train, y2_train, cv=3, scoring=\"accuracy\")"
   ]
  },
  {
   "cell_type": "markdown",
   "metadata": {},
   "source": [
    "Confusion Matrix"
   ]
  },
  {
   "cell_type": "code",
   "execution_count": 12,
   "metadata": {
    "scrolled": true
   },
   "outputs": [
    {
     "name": "stdout",
     "output_type": "stream",
     "text": [
      "[ True False False ..., False False False]\n"
     ]
    }
   ],
   "source": [
    "from sklearn.model_selection import cross_val_predict\n",
    "y_train_pred = cross_val_predict(sgd_clf, X_train, y_train_9, cv=3)\n",
    "print(y_train_pred)"
   ]
  },
  {
   "cell_type": "code",
   "execution_count": 201,
   "metadata": {
    "scrolled": true
   },
   "outputs": [],
   "source": [
    "from sklearn.metrics import confusion_matrix\n",
    "sgd_conf_mx = confusion_matrix(y_train_9, y_train_pred)"
   ]
  },
  {
   "cell_type": "code",
   "execution_count": 192,
   "metadata": {},
   "outputs": [
    {
     "name": "stdout",
     "output_type": "stream",
     "text": [
      "[ 0.  2.  1. ...,  6.  0.  8.]\n"
     ]
    }
   ],
   "source": [
    "from sklearn.model_selection import cross_val_predict\n",
    "y_train_pred2 = cross_val_predict(sgd_clf2, X2_train, y2_train, cv=3)\n",
    "print(y_train_pred2)"
   ]
  },
  {
   "cell_type": "code",
   "execution_count": 204,
   "metadata": {
    "scrolled": true
   },
   "outputs": [
    {
     "name": "stdout",
     "output_type": "stream",
     "text": [
      "[[5732    4   34   15   24   26   31   11   46]\n",
      " [   1 6439   41   24   36   35    6   18  142]\n",
      " [  60   66 5284  124   81   32   70   88  153]\n",
      " [  54   30  221 5201   57  344   29   86  109]\n",
      " [  24   54   32   15 5583   35   24   36   39]\n",
      " [  98   31   63  328  208 4304  117   45  227]\n",
      " [  88   30  100    9   70  103 5489    6   23]\n",
      " [  45   38   51   35  146    9    6 5909   26]\n",
      " [  23   66   41   87  108  159   15   21 1280]]\n"
     ]
    }
   ],
   "source": [
    "from sklearn.metrics import confusion_matrix\n",
    "sgd2_conf_mx = confusion_matrix(y2_train, y_train_pred2)\n",
    "print(sgd2_conf_mx)"
   ]
  },
  {
   "cell_type": "code",
   "execution_count": 205,
   "metadata": {},
   "outputs": [
    {
     "data": {
      "image/png": "[encoded data removed]",
      "text/plain": [
       "<matplotlib.figure.Figure at 0x20103172a20>"
      ]
     },
     "metadata": {},
     "output_type": "display_data"
    }
   ],
   "source": [
    "plt.matshow(sgd2_conf_mx, cmap=plt.cm.gray)\n",
    "plt.show()"
   ]
  },
  {
   "cell_type": "markdown",
   "metadata": {},
   "source": [
    "Precision and Recall"
   ]
  },
  {
   "cell_type": "code",
   "execution_count": 14,
   "metadata": {},
   "outputs": [
    {
     "name": "stdout",
     "output_type": "stream",
     "text": [
      "0.720751761942\n",
      "0.773575390822\n"
     ]
    }
   ],
   "source": [
    "from sklearn.metrics import precision_score, recall_score\n",
    "print(precision_score(y_train_9, y_train_pred))\n",
    "print(recall_score(y_train_9, y_train_pred))"
   ]
  },
  {
   "cell_type": "code",
   "execution_count": 15,
   "metadata": {},
   "outputs": [
    {
     "data": {
      "text/plain": [
       "0.74622993351710731"
      ]
     },
     "execution_count": 15,
     "metadata": {},
     "output_type": "execute_result"
    }
   ],
   "source": [
    "from sklearn.metrics import f1_score\n",
    "f1_score(y_train_9, y_train_pred)"
   ]
  },
  {
   "cell_type": "markdown",
   "metadata": {
    "collapsed": true
   },
   "source": [
    "Precision/Recall Tradeoff"
   ]
  },
  {
   "cell_type": "code",
   "execution_count": 35,
   "metadata": {},
   "outputs": [
    {
     "data": {
      "text/plain": [
       "((60000,), (60000, 784))"
      ]
     },
     "execution_count": 35,
     "metadata": {},
     "output_type": "execute_result"
    }
   ],
   "source": [
    "y_train_9.shape , X_train.shape"
   ]
  },
  {
   "cell_type": "code",
   "execution_count": 17,
   "metadata": {},
   "outputs": [
    {
     "data": {
      "text/plain": [
       "(60000,)"
      ]
     },
     "execution_count": 17,
     "metadata": {},
     "output_type": "execute_result"
    }
   ],
   "source": [
    "y_scores = cross_val_predict(sgd_clf, X_train, y_train_9, cv=3, method=\"decision_function\")\n",
    "y_scores.shape"
   ]
  },
  {
   "cell_type": "code",
   "execution_count": 195,
   "metadata": {},
   "outputs": [
    {
     "data": {
      "text/plain": [
       "(50000,)"
      ]
     },
     "execution_count": 195,
     "metadata": {},
     "output_type": "execute_result"
    }
   ],
   "source": [
    "y_train_pred2.shape"
   ]
  },
  {
   "cell_type": "markdown",
   "metadata": {},
   "source": [
    "Classification report for 50000 sample training set"
   ]
  },
  {
   "cell_type": "code",
   "execution_count": 197,
   "metadata": {},
   "outputs": [
    {
     "name": "stdout",
     "output_type": "stream",
     "text": [
      "Score:                precision    recall  f1-score   support\n",
      "\n",
      "        0.0       0.97      0.94      0.95      6125\n",
      "        1.0       0.96      0.95      0.95      6758\n",
      "        2.0       0.89      0.90      0.89      5867\n",
      "        3.0       0.85      0.89      0.87      5838\n",
      "        4.0       0.96      0.88      0.92      6313\n",
      "        5.0       0.79      0.85      0.82      5047\n",
      "        6.0       0.93      0.95      0.94      5787\n",
      "        7.0       0.94      0.95      0.95      6220\n",
      "        8.0       0.71      0.63      0.67      2045\n",
      "\n",
      "avg / total       0.91      0.90      0.90     50000\n",
      "\n"
     ]
    }
   ],
   "source": [
    "from sklearn import metrics\n",
    "print ('Score:  ',(metrics.classification_report(y_train_pred2, y2_train)))"
   ]
  },
  {
   "cell_type": "code",
   "execution_count": 18,
   "metadata": {
    "collapsed": true
   },
   "outputs": [],
   "source": [
    "from sklearn.metrics import precision_recall_curve\n",
    "precisions, recalls, thresholds = precision_recall_curve(y_train_9, y_scores)"
   ]
  },
  {
   "cell_type": "code",
   "execution_count": 19,
   "metadata": {},
   "outputs": [
    {
     "data": {
      "image/png": "[encoded data removed]",
      "text/plain": [
       "<matplotlib.figure.Figure at 0x201519292e8>"
      ]
     },
     "metadata": {},
     "output_type": "display_data"
    }
   ],
   "source": [
    "def plot_precision_recall_vs_threshold(precisions, recalls, thresholds):\n",
    "    plt.plot(thresholds, precisions[:-1], \"b--\", label=\"Precision\")\n",
    "    plt.plot(thresholds, recalls[:-1], \"g-\", label=\"Recall\")\n",
    "    plt.xlabel(\"Threshold\")\n",
    "    plt.legend(loc=\"upper left\")\n",
    "    plt.ylim([0, 1])\n",
    "    \n",
    "plot_precision_recall_vs_threshold(precisions, recalls, thresholds)\n",
    "plt.show()"
   ]
  },
  {
   "cell_type": "markdown",
   "metadata": {},
   "source": [
    "RBF"
   ]
  },
  {
   "cell_type": "code",
   "execution_count": 156,
   "metadata": {
    "scrolled": true
   },
   "outputs": [
    {
     "name": "stdout",
     "output_type": "stream",
     "text": [
      "Start fitting. This may take a while\n",
      "Confusion matrix:\n",
      "[[2258    1    4    1    2    2    3    1    4    2]\n",
      " [   1 2566    9    1    1    0    0    7    3    0]\n",
      " [   4    1 2280    5    4    0    1    9    8    2]\n",
      " [   0    0   14 2304    1   13    0    6    8    2]\n",
      " [   2    2    2    0 2183    0    7    5    0   10]\n",
      " [   4    0    0   16    3 2026   12    1    4    3]\n",
      " [   7    5    3    0    5    2 2245    0    4    0]\n",
      " [   1    6   11    2    5    1    0 2373    5   13]\n",
      " [   3    9    4    9    4   10    2    3 2166    5]\n",
      " [   3    2    2    6   19    6    0   12   10 2329]]\n",
      "Accuracy: 0.9840\n",
      "out: [ 4.]\n",
      "Label: 4.0\n"
     ]
    },
    {
     "name": "stderr",
     "output_type": "stream",
     "text": [
      "C:\\ProgramData\\Anaconda3\\lib\\site-packages\\sklearn\\utils\\validation.py:395: DeprecationWarning: Passing 1d arrays as data is deprecated in 0.17 and will raise ValueError in 0.19. Reshape your data either using X.reshape(-1, 1) if your data has a single feature or X.reshape(1, -1) if it contains a single sample.\n",
      "  DeprecationWarning)\n"
     ]
    },
    {
     "data": {
      "image/png": "[encoded data removed]",
      "text/plain": [
       "<matplotlib.figure.Figure at 0x20101f22ac8>"
      ]
     },
     "metadata": {},
     "output_type": "display_data"
    }
   ],
   "source": [
    "import numpy as np\n",
    "\n",
    "\n",
    "def main():\n",
    "    \"\"\"Orchestrate the retrival of data, training and testing.\"\"\"\n",
    "    data = get_data()\n",
    "\n",
    "    # Get classifier\n",
    "    from sklearn.svm import SVC\n",
    "    clf = SVC(probability=False,  # cache_size=200,\n",
    "              kernel=\"rbf\", C=2.8, gamma=.0073)\n",
    "\n",
    "    print(\"Start fitting. This may take a while\")\n",
    "\n",
    "    # take all of it - make that number lower for experiments\n",
    "    examples = len(data['train']['X'])\n",
    "    clf.fit(data['train']['X'][:examples], data['train']['y'][:examples])\n",
    "\n",
    "    analyze(clf, data)\n",
    "\n",
    "\n",
    "def analyze(clf, data):\n",
    "    \"\"\"\n",
    "    Analyze how well a classifier performs on data.\n",
    "\n",
    "    Parameters\n",
    "    ----------\n",
    "    clf : classifier object\n",
    "    data : dict\n",
    "    \"\"\"\n",
    "    # Get confusion matrix\n",
    "    from sklearn import metrics\n",
    "    predicted = clf.predict(data['test']['X'])\n",
    "    print(\"Confusion matrix:\\n%s\" %\n",
    "          metrics.confusion_matrix(data['test']['y'],\n",
    "                                   predicted))\n",
    "    print(\"Accuracy: %0.4f\" % metrics.accuracy_score(data['test']['y'],\n",
    "                                                     predicted))\n",
    "\n",
    "    # Print example\n",
    "    try_id = 3\n",
    "    out = clf.predict(data['test']['X'][try_id])  # clf.predict_proba\n",
    "    print(\"out: %s\" % out)\n",
    "    size = int(len(data['test']['X'][try_id])**(0.5))\n",
    "    view_image(data['test']['X'][try_id].reshape((size, size)),\n",
    "               data['test']['y'][try_id])\n",
    "\n",
    "\n",
    "def view_image(image, label=\"\"):\n",
    "    \"\"\"\n",
    "    View a single image.\n",
    "\n",
    "    Parameters\n",
    "    ----------\n",
    "    image : numpy array\n",
    "        Make sure this is of the shape you want.\n",
    "    label : str\n",
    "    \"\"\"\n",
    "    from matplotlib.pyplot import show, imshow, cm\n",
    "    print(\"Label: %s\" % label)\n",
    "    imshow(image) #cmap=cm.gray)\n",
    "    show()\n",
    "\n",
    "\n",
    "def get_data():\n",
    "    \"\"\"\n",
    "    Get data ready to learn with.\n",
    "\n",
    "    Returns\n",
    "    -------\n",
    "    dict\n",
    "    \"\"\"\n",
    "    simple = False\n",
    "    if simple:  # Load the simple, but similar digits dataset\n",
    "        from sklearn.datasets import load_digits\n",
    "        from sklearn.utils import shuffle\n",
    "        digits = load_digits()\n",
    "        x = [np.array(el).flatten() for el in digits.images]\n",
    "        y = digits.target\n",
    "\n",
    "        # Scale data to [-1, 1] - This is of mayor importance!!!\n",
    "        # In this case, I know the range and thus I can (and should) scale\n",
    "        # manually. However, this might not always be the case.\n",
    "        # Then try sklearn.preprocessing.MinMaxScaler or\n",
    "        # sklearn.preprocessing.StandardScaler\n",
    "        x = x/255.0*2 - 1\n",
    "\n",
    "        x, y = shuffle(x, y, random_state=0)\n",
    "\n",
    "        from sklearn.cross_validation import train_test_split\n",
    "        x_train, x_test, y_train, y_test = train_test_split(x, y,\n",
    "                                                            test_size=0.33,\n",
    "                                                            random_state=42)\n",
    "        data = {'train': {'X': x_train,\n",
    "                          'y': y_train},\n",
    "                'test': {'X': x_test,\n",
    "                         'y': y_test}}\n",
    "    else:  # Load the original dataset\n",
    "        from sklearn.datasets import fetch_mldata\n",
    "        from sklearn.utils import shuffle\n",
    "        mnist = fetch_mldata('MNIST original')\n",
    "\n",
    "        x = mnist.data\n",
    "        y = mnist.target\n",
    "\n",
    "        # Scale data to [-1, 1] - This is of mayor importance!!!\n",
    "        x = x/255.0*2 - 1\n",
    "\n",
    "        x, y = shuffle(x, y, random_state=0)\n",
    "\n",
    "        from sklearn.cross_validation import train_test_split\n",
    "        x_train, x_test, y_train, y_test = train_test_split(x, y,\n",
    "                                                            test_size=0.33,\n",
    "                                                            random_state=42)\n",
    "        data = {'train': {'X': x_train,\n",
    "                          'y': y_train},\n",
    "                'test': {'X': x_test,\n",
    "                         'y': y_test}}\n",
    "    return data\n",
    "\n",
    "\n",
    "if __name__ == '__main__':\n",
    "    main()\n",
    "    \n"
   ]
  },
  {
   "cell_type": "code",
   "execution_count": 200,
   "metadata": {},
   "outputs": [
    {
     "name": "stdout",
     "output_type": "stream",
     "text": [
      "Start fitting. This may take a while\n",
      "Confusion matrix:\n",
      "[[2258    1    4    1    2    2    3    1    4    2]\n",
      " [   1 2564    9    1    2    0    0    8    3    0]\n",
      " [   4    1 2279    5    4    0    1   11    8    1]\n",
      " [   0    0   15 2300    1   14    0    6    9    3]\n",
      " [   2    2    3    0 2179    0    7    4    1   13]\n",
      " [   4    0    0   15    3 2026   12    1    4    4]\n",
      " [   7    5    3    0    5    2 2245    0    4    0]\n",
      " [   1    6   12    2    6    1    0 2367    5   17]\n",
      " [   3    9    4    9    5   10    1    3 2166    5]\n",
      " [   2    1    2    6   21    7    0   13    9 2328]]\n",
      "Accuracy: 0.9832\n",
      "out: [ 4.]\n",
      "Label: 4.0\n"
     ]
    },
    {
     "name": "stderr",
     "output_type": "stream",
     "text": [
      "C:\\ProgramData\\Anaconda3\\lib\\site-packages\\sklearn\\utils\\validation.py:395: DeprecationWarning: Passing 1d arrays as data is deprecated in 0.17 and will raise ValueError in 0.19. Reshape your data either using X.reshape(-1, 1) if your data has a single feature or X.reshape(1, -1) if it contains a single sample.\n",
      "  DeprecationWarning)\n"
     ]
    },
    {
     "data": {
      "image/png": "[encoded data removed]",
      "text/plain": [
       "<matplotlib.figure.Figure at 0x201001fa2e8>"
      ]
     },
     "metadata": {},
     "output_type": "display_data"
    }
   ],
   "source": [
    "def main():\n",
    "    \"\"\"Orchestrate the retrival of data, training and testing.\"\"\"\n",
    "    data = get_data2()\n",
    "\n",
    "    # Get classifier\n",
    "    from sklearn.svm import SVC\n",
    "    clf = SVC(probability=False,  # cache_size=200,\n",
    "              kernel=\"rbf\", C=1.8, gamma=.0073)\n",
    "\n",
    "    print(\"Start fitting. This may take a while\")\n",
    "\n",
    "    # take all of it - make that number lower for experiments\n",
    "    examples = len(data['train']['X'])\n",
    "    clf.fit(data['train']['X'][:examples], data['train']['y'][:examples])\n",
    "\n",
    "    analyze2(clf, data)\n",
    "\n",
    "def analyze2(clf, data):\n",
    "    \"\"\"\n",
    "    Analyze how well a classifier performs on data.\n",
    "\n",
    "    Parameters\n",
    "    ----------\n",
    "    clf : classifier object\n",
    "    data : dict\n",
    "    \"\"\"\n",
    "    # Get confusion matrix\n",
    "    from sklearn import metrics\n",
    "    predicted = clf.predict(data['test']['X'])\n",
    "    print(\"Confusion matrix:\\n%s\" %\n",
    "          metrics.confusion_matrix(data['test']['y'],\n",
    "                                   predicted))\n",
    "    print(\"Accuracy: %0.4f\" % metrics.accuracy_score(data['test']['y'],\n",
    "                                                     predicted))\n",
    "\n",
    "    # Print example\n",
    "    try_id = 3\n",
    "    out = clf.predict(data['test']['X'][try_id])  # clf.predict_proba\n",
    "    print(\"out: %s\" % out)\n",
    "    size = int(len(data['test']['X'][try_id])**(0.5))\n",
    "    view_image(data['test']['X'][try_id].reshape((size, size)),\n",
    "               data['test']['y'][try_id])\n",
    "\n",
    "\n",
    "def view_image(image, label=\"\"):\n",
    "    \"\"\"\n",
    "    View a single image.\n",
    "\n",
    "    Parameters\n",
    "    ----------\n",
    "    image : numpy array\n",
    "        Make sure this is of the shape you want.\n",
    "    label : str\n",
    "    \"\"\"\n",
    "    from matplotlib.pyplot import show, imshow, cm\n",
    "    print(\"Label: %s\" % label)\n",
    "    imshow(image) #cmap=cm.gray)\n",
    "    show()\n",
    "    \n",
    "def get_data2():\n",
    "    \"\"\"\n",
    "    Get data ready to learn with.\n",
    "\n",
    "    Returns\n",
    "    -------\n",
    "    dict\n",
    "    \"\"\"\n",
    "    simple = False\n",
    "    if simple:  # Load the simple, but similar digits dataset\n",
    "        from sklearn.datasets import load_digits\n",
    "        from sklearn.utils import shuffle\n",
    "        digits = load_digits()\n",
    "        x = [np.array(el).flatten() for el in digits.images]\n",
    "        y = digits.target\n",
    "\n",
    "        # Scale data to [-1, 1] - This is of mayor importance!!!\n",
    "        # In this case, I know the range and thus I can (and should) scale\n",
    "        # manually. However, this might not always be the case.\n",
    "        # Then try sklearn.preprocessing.MinMaxScaler or\n",
    "        # sklearn.preprocessing.StandardScaler\n",
    "        x = x/255.0*2 - 1\n",
    "\n",
    "        x, y = shuffle(x, y, random_state=0)\n",
    "\n",
    "        from sklearn.cross_validation import train_test_split\n",
    "        x_train, x_test, y_train, y_test = train_test_split(x, y,test_size=0.2,\n",
    "                                                            random_state=24)\n",
    "        data = {'train': {'X': x_train,\n",
    "                          'y': y_train},\n",
    "                'test': {'X': x_test,\n",
    "                         'y': y_test}}\n",
    "    else:  # Load the original dataset\n",
    "        from sklearn.datasets import fetch_mldata\n",
    "        from sklearn.utils import shuffle\n",
    "        mnist = fetch_mldata('MNIST original')\n",
    "\n",
    "        x = mnist.data\n",
    "        y = mnist.target\n",
    "\n",
    "        # Scale data to [-1, 1] - This is of mayor importance!!!\n",
    "        x = x/255.0*2 - 1\n",
    "\n",
    "        x, y = shuffle(x, y, random_state=0)\n",
    "\n",
    "        from sklearn.cross_validation import train_test_split\n",
    "        x_train, x_test, y_train, y_test = train_test_split(x, y,\n",
    "                                                            test_size=0.33,\n",
    "                                                            random_state=42)\n",
    "        data = {'train': {'X': x_train,\n",
    "                          'y': y_train},\n",
    "                'test': {'X': x_test,\n",
    "                         'y': y_test}}\n",
    "    return data\n",
    "\n",
    "\n",
    "if __name__ == '__main__':\n",
    "    main()\n",
    "    "
   ]
  },
  {
   "cell_type": "markdown",
   "metadata": {},
   "source": [
    "OHMLP"
   ]
  },
  {
   "cell_type": "code",
   "execution_count": 20,
   "metadata": {
    "scrolled": true
   },
   "outputs": [
    {
     "name": "stderr",
     "output_type": "stream",
     "text": [
      "Using TensorFlow backend.\n"
     ]
    },
    {
     "name": "stdout",
     "output_type": "stream",
     "text": [
      "Train on 54000 samples, validate on 6000 samples\n",
      "Epoch 1/20\n",
      "54000/54000 [==============================] - 9s - loss: 0.2824 - acc: 0.9199 - val_loss: 0.1223 - val_acc: 0.9670\n",
      "Epoch 2/20\n",
      "54000/54000 [==============================] - 8s - loss: 0.1130 - acc: 0.9670 - val_loss: 0.0870 - val_acc: 0.9752\n",
      "Epoch 3/20\n",
      "54000/54000 [==============================] - 7s - loss: 0.0752 - acc: 0.9779 - val_loss: 0.0770 - val_acc: 0.9780\n",
      "Epoch 4/20\n",
      "54000/54000 [==============================] - 7s - loss: 0.0525 - acc: 0.9849 - val_loss: 0.0717 - val_acc: 0.9795\n",
      "Epoch 5/20\n",
      "54000/54000 [==============================] - 7s - loss: 0.0374 - acc: 0.9896 - val_loss: 0.0668 - val_acc: 0.9822\n",
      "Epoch 6/20\n",
      "54000/54000 [==============================] - 6s - loss: 0.0282 - acc: 0.9921 - val_loss: 0.0680 - val_acc: 0.9815\n",
      "Epoch 7/20\n",
      "54000/54000 [==============================] - 6s - loss: 0.0207 - acc: 0.9947 - val_loss: 0.0714 - val_acc: 0.9795\n",
      "Epoch 8/20\n",
      "54000/54000 [==============================] - 7s - loss: 0.0164 - acc: 0.9959 - val_loss: 0.0664 - val_acc: 0.9828\n",
      "Epoch 9/20\n",
      "54000/54000 [==============================] - 7s - loss: 0.0115 - acc: 0.9976 - val_loss: 0.0672 - val_acc: 0.9837\n",
      "Epoch 10/20\n",
      "54000/54000 [==============================] - 8s - loss: 0.0093 - acc: 0.9980 - val_loss: 0.0711 - val_acc: 0.9817\n",
      "Epoch 11/20\n",
      "54000/54000 [==============================] - 7s - loss: 0.0097 - acc: 0.9976 - val_loss: 0.0779 - val_acc: 0.9795\n",
      "Epoch 12/20\n",
      "54000/54000 [==============================] - 7s - loss: 0.0104 - acc: 0.9971 - val_loss: 0.0663 - val_acc: 0.9837\n",
      "Epoch 13/20\n",
      "54000/54000 [==============================] - 8s - loss: 0.0047 - acc: 0.9991 - val_loss: 0.0644 - val_acc: 0.9845\n",
      "Epoch 14/20\n",
      "54000/54000 [==============================] - 8s - loss: 0.0028 - acc: 0.9996 - val_loss: 0.0712 - val_acc: 0.9833\n",
      "Epoch 15/20\n",
      "54000/54000 [==============================] - 8s - loss: 0.0032 - acc: 0.9994 - val_loss: 0.0790 - val_acc: 0.9830\n",
      "Epoch 16/20\n",
      "54000/54000 [==============================] - 8s - loss: 0.0121 - acc: 0.9961 - val_loss: 0.0736 - val_acc: 0.9840\n",
      "Epoch 17/20\n",
      "54000/54000 [==============================] - 8s - loss: 0.0041 - acc: 0.9991 - val_loss: 0.0847 - val_acc: 0.9807\n",
      "Epoch 18/20\n",
      "54000/54000 [==============================] - 8s - loss: 0.0018 - acc: 0.9998 - val_loss: 0.0740 - val_acc: 0.9842\n",
      "Epoch 19/20\n",
      "54000/54000 [==============================] - 8s - loss: 7.6448e-04 - acc: 1.0000 - val_loss: 0.0701 - val_acc: 0.9863\n",
      "Epoch 20/20\n",
      "54000/54000 [==============================] - 8s - loss: 3.7405e-04 - acc: 1.0000 - val_loss: 0.0710 - val_acc: 0.9860\n",
      " 9696/10000 [============================>.] - ETA: 0s"
     ]
    },
    {
     "data": {
      "text/plain": [
       "[0.06524743211175292, 0.98499999999999999]"
      ]
     },
     "execution_count": 20,
     "metadata": {},
     "output_type": "execute_result"
    }
   ],
   "source": [
    "from keras.datasets import mnist # subroutines for fetching the MNIST dataset\n",
    "from keras.models import Model # basic class for specifying and training a neural network\n",
    "from keras.layers import Input, Dense # the two types of neural network layer we will be using\n",
    "from keras.utils import np_utils # utilities for one-hot encoding of ground truth values\n",
    "\n",
    "batch_size = 128 # in each iteration, we consider 128 training examples at once\n",
    "num_epochs = 20 # we iterate twenty times over the entire training set\n",
    "hidden_size = 512 # there will be 512 neurons in both hidden layers\n",
    "\n",
    "num_train = 60000 # there are 60000 training examples in MNIST\n",
    "num_test = 10000 # there are 10000 test examples in MNIST\n",
    "\n",
    "height, width, depth = 28, 28, 1 # MNIST images are 28x28 and greyscale\n",
    "num_classes = 10 # there are 10 classes (1 per digit)\n",
    "\n",
    "(X_train, y_train), (X_test, y_test) = mnist.load_data() # fetch MNIST data\n",
    "\n",
    "X_train = X_train.reshape(num_train, height * width) # Flatten data to 1D\n",
    "X_test = X_test.reshape(num_test, height * width) # Flatten data to 1D\n",
    "X_train = X_train.astype('float32') \n",
    "X_test = X_test.astype('float32')\n",
    "X_train /= 255 # Normalise data to [0, 1] range\n",
    "X_test /= 255 # Normalise data to [0, 1] range\n",
    "\n",
    "Y_train = np_utils.to_categorical(y_train, num_classes) # One-hot encode the labels\n",
    "Y_test = np_utils.to_categorical(y_test, num_classes) # One-hot encode the labels\n",
    "\n",
    "inp = Input(shape=(height * width,)) # Our input is a 1D vector of size 784\n",
    "hidden_1 = Dense(hidden_size, activation='relu')(inp) # First hidden ReLU layer\n",
    "#hidden_2 = Dense(hidden_size, activation='relu')(hidden_1) # Second hidden ReLU layer\n",
    "out = Dense(num_classes, activation='softmax')(hidden_1) # Output softmax layer\n",
    "\n",
    "model_1hid = Model(inputs=inp, outputs=out) # To define a model, just specify its input and output layers\n",
    "\n",
    "model_1hid.compile(loss='categorical_crossentropy', # using the cross-entropy loss function\n",
    "              optimizer='adam', # using the Adam optimiser\n",
    "              metrics=['accuracy']) # reporting the accuracy\n",
    "\n",
    "model_1hid.fit(X_train, Y_train, # Train the model using the training set...\n",
    "          batch_size=batch_size, epochs=num_epochs,\n",
    "          verbose=1, validation_split=0.1) # ...holding out 10% of the data for validation\n",
    "\n",
    "Y_pred = model_1hid.predict(X_test)\n",
    "\n",
    "model_1hid.evaluate(X_test, Y_test, verbose=1) # Evaluate the trained model on the test set!"
   ]
  },
  {
   "cell_type": "code",
   "execution_count": 26,
   "metadata": {},
   "outputs": [
    {
     "name": "stdout",
     "output_type": "stream",
     "text": [
      "[[  1.85769130e-12   3.79472408e-12   1.68515660e-10 ...,   9.99999642e-01\n",
      "    1.74644882e-11   3.58721608e-10]\n",
      " [  6.98944229e-15   2.75199064e-09   1.00000000e+00 ...,   2.57441361e-22\n",
      "    1.78371922e-12   2.80104318e-21]\n",
      " [  3.05640180e-10   9.99983430e-01   4.61189018e-07 ...,   3.26647523e-06\n",
      "    1.27516832e-05   3.21555826e-09]\n",
      " ..., \n",
      " [  8.14341491e-23   1.48376556e-18   1.28695458e-20 ...,   3.13000237e-10\n",
      "    7.28337182e-11   1.86887089e-10]\n",
      " [  3.23193150e-16   2.58325412e-17   3.73630788e-19 ...,   9.22797821e-16\n",
      "    5.31726592e-08   1.13263790e-16]\n",
      " [  1.82933665e-13   3.27459381e-18   1.25295214e-14 ...,   1.98194461e-22\n",
      "    2.57179932e-17   8.37697387e-18]]\n",
      "[7 2 1 ..., 4 5 6]\n",
      "[[ 972    1    1    0    1    0    2    1    2    0]\n",
      " [   0 1127    2    0    0    1    2    1    2    0]\n",
      " [   2    1 1013    3    1    0    2    5    5    0]\n",
      " [   0    0    1  996    0    3    0    3    4    3]\n",
      " [   1    0    2    1  969    0    3    0    0    6]\n",
      " [   2    0    0    9    2  872    1    1    4    1]\n",
      " [   3    2    1    1    3    4  943    0    1    0]\n",
      " [   0    4    4    1    1    0    0 1011    4    3]\n",
      " [   0    0    3    4    4    1    0    3  957    2]\n",
      " [   1    2    0    2    4    2    0    6    2  990]]\n"
     ]
    }
   ],
   "source": [
    "from sklearn.metrics import classification_report,confusion_matrix\n",
    "\n",
    "Y_1hidpred = model_1hid.predict(X_test)\n",
    "print(Y_1hidpred)\n",
    "y_pred1hid = np.argmax(Y_1hidpred, axis=1)\n",
    "print(y_pred1hid)\n",
    "print(confusion_matrix(np.argmax(Y_test,axis=1), y_pred1hid))"
   ]
  },
  {
   "cell_type": "code",
   "execution_count": 34,
   "metadata": {},
   "outputs": [
    {
     "data": {
      "text/plain": [
       "((60000, 784), (60000, 10))"
      ]
     },
     "execution_count": 34,
     "metadata": {},
     "output_type": "execute_result"
    }
   ],
   "source": [
    "X_train.shape, Y_train.shape"
   ]
  },
  {
   "cell_type": "markdown",
   "metadata": {},
   "source": [
    "THMLP"
   ]
  },
  {
   "cell_type": "code",
   "execution_count": 139,
   "metadata": {
    "collapsed": true
   },
   "outputs": [],
   "source": [
    "from keras.datasets import mnist # subroutines for fetching the MNIST dataset\n",
    "from keras.models import Model # basic class for specifying and training a neural network\n",
    "from keras.layers import Input, Dense # the two types of neural network layer we will be using\n",
    "from keras.utils import np_utils # utilities for one-hot encoding of ground truth values\n",
    "\n",
    "batch_size = 128 # in each iteration, we consider 128 training examples at once\n",
    "num_epochs = 20 # we iterate twenty times over the entire training set\n",
    "hidden_size = 512 # there will be 512 neurons in both hidden layers\n",
    "\n",
    "num_train = 60000 # there are 60000 training examples in MNIST\n",
    "num_test = 10000 # there are 10000 test examples in MNIST\n",
    "\n",
    "height, width, depth = 28, 28, 1 # MNIST images are 28x28 and greyscale\n",
    "num_classes = 10 # there are 10 classes (1 per digit)\n",
    "\n",
    "(X_train, y_train), (X_test, y_test) = mnist.load_data() # fetch MNIST data\n",
    "\n",
    "X_train = X_train.reshape(num_train, height * width) # Flatten data to 1D\n",
    "X_test = X_test.reshape(num_test, height * width) # Flatten data to 1D\n",
    "X_train = X_train.astype('float32') \n",
    "X_test = X_test.astype('float32')\n",
    "X_train /= 255 # Normalise data to [0, 1] range\n",
    "X_test /= 255 # Normalise data to [0, 1] range\n",
    "\n",
    "Y_train = np_utils.to_categorical(y_train, num_classes) # One-hot encode the labels\n",
    "Y_test = np_utils.to_categorical(y_test, num_classes) # One-hot encode the labels"
   ]
  },
  {
   "cell_type": "code",
   "execution_count": 40,
   "metadata": {},
   "outputs": [
    {
     "name": "stdout",
     "output_type": "stream",
     "text": [
      "Train on 54000 samples, validate on 6000 samples\n",
      "Epoch 1/20\n",
      "54000/54000 [==============================] - 13s - loss: 0.2274 - acc: 0.9334 - val_loss: 0.1251 - val_acc: 0.9608\n",
      "Epoch 2/20\n",
      "54000/54000 [==============================] - 12s - loss: 0.0845 - acc: 0.9738 - val_loss: 0.0734 - val_acc: 0.9788\n",
      "Epoch 3/20\n",
      "54000/54000 [==============================] - 12s - loss: 0.0521 - acc: 0.9835 - val_loss: 0.0633 - val_acc: 0.9813\n",
      "Epoch 4/20\n",
      "54000/54000 [==============================] - 12s - loss: 0.0380 - acc: 0.9876 - val_loss: 0.0857 - val_acc: 0.9772\n",
      "Epoch 5/20\n",
      "54000/54000 [==============================] - 12s - loss: 0.0262 - acc: 0.9915 - val_loss: 0.0889 - val_acc: 0.9765\n",
      "Epoch 6/20\n",
      "54000/54000 [==============================] - 13s - loss: 0.0208 - acc: 0.9931 - val_loss: 0.0852 - val_acc: 0.9780\n",
      "Epoch 7/20\n",
      "54000/54000 [==============================] - 13s - loss: 0.0189 - acc: 0.9935 - val_loss: 0.0713 - val_acc: 0.9817\n",
      "Epoch 8/20\n",
      "54000/54000 [==============================] - 13s - loss: 0.0179 - acc: 0.9938 - val_loss: 0.0802 - val_acc: 0.9795\n",
      "Epoch 9/20\n",
      "54000/54000 [==============================] - 13s - loss: 0.0154 - acc: 0.9948 - val_loss: 0.0791 - val_acc: 0.9798\n",
      "Epoch 10/20\n",
      "54000/54000 [==============================] - 13s - loss: 0.0121 - acc: 0.9958 - val_loss: 0.0772 - val_acc: 0.9825\n",
      "Epoch 11/20\n",
      "54000/54000 [==============================] - 13s - loss: 0.0106 - acc: 0.9966 - val_loss: 0.0871 - val_acc: 0.9812\n",
      "Epoch 12/20\n",
      "54000/54000 [==============================] - 13s - loss: 0.0116 - acc: 0.9960 - val_loss: 0.1012 - val_acc: 0.9803\n",
      "Epoch 13/20\n",
      "54000/54000 [==============================] - 13s - loss: 0.0134 - acc: 0.9954 - val_loss: 0.0815 - val_acc: 0.9822\n",
      "Epoch 14/20\n",
      "54000/54000 [==============================] - 13s - loss: 0.0105 - acc: 0.9966 - val_loss: 0.1040 - val_acc: 0.9795\n",
      "Epoch 15/20\n",
      "54000/54000 [==============================] - 13s - loss: 0.0099 - acc: 0.9969 - val_loss: 0.0756 - val_acc: 0.9845\n",
      "Epoch 16/20\n",
      "54000/54000 [==============================] - 13s - loss: 0.0076 - acc: 0.9973 - val_loss: 0.0886 - val_acc: 0.9817\n",
      "Epoch 17/20\n",
      "54000/54000 [==============================] - 14s - loss: 0.0054 - acc: 0.9982 - val_loss: 0.1102 - val_acc: 0.9780\n",
      "Epoch 18/20\n",
      "54000/54000 [==============================] - 13s - loss: 0.0103 - acc: 0.9966 - val_loss: 0.0846 - val_acc: 0.9820\n",
      "Epoch 19/20\n",
      "54000/54000 [==============================] - 12s - loss: 0.0089 - acc: 0.9973 - val_loss: 0.1049 - val_acc: 0.9792\n",
      "Epoch 20/20\n",
      "54000/54000 [==============================] - 14s - loss: 0.0055 - acc: 0.9982 - val_loss: 0.1052 - val_acc: 0.9793\n",
      " 9888/10000 [============================>.] - ETA: 0s"
     ]
    }
   ],
   "source": [
    "from keras.datasets import mnist # subroutines for fetching the MNIST dataset\n",
    "from keras.models import Model # basic class for specifying and training a neural network\n",
    "from keras.layers import Input, Dense # the two types of neural network layer we will be using\n",
    "from keras.utils import np_utils # utilities for one-hot encoding of ground truth values\n",
    "\n",
    "batch_size = 128 # in each iteration, we consider 128 training examples at once\n",
    "num_epochs = 20 # we iterate twenty times over the entire training set\n",
    "hidden_size = 512 # there will be 512 neurons in both hidden layers\n",
    "\n",
    "num_train = 60000 # there are 60000 training examples in MNIST\n",
    "num_test = 10000 # there are 10000 test examples in MNIST\n",
    "\n",
    "height, width, depth = 28, 28, 1 # MNIST images are 28x28 and greyscale\n",
    "num_classes = 10 # there are 10 classes (1 per digit)\n",
    "\n",
    "(X_train, y_train), (X_test, y_test) = mnist.load_data() # fetch MNIST data\n",
    "\n",
    "X_train = X_train.reshape(num_train, height * width) # Flatten data to 1D\n",
    "X_test = X_test.reshape(num_test, height * width) # Flatten data to 1D\n",
    "X_train = X_train.astype('float32') \n",
    "X_test = X_test.astype('float32')\n",
    "X_train /= 255 # Normalise data to [0, 1] range\n",
    "X_test /= 255 # Normalise data to [0, 1] range\n",
    "\n",
    "Y_train = np_utils.to_categorical(y_train, num_classes) # One-hot encode the labels\n",
    "Y_test = np_utils.to_categorical(y_test, num_classes) # One-hot encode the labels\n",
    "\n",
    "inp = Input(shape=(height * width,)) # Our input is a 1D vector of size 784\n",
    "hidden_1 = Dense(hidden_size, activation='relu')(inp) # First hidden ReLU layer\n",
    "hidden_2 = Dense(hidden_size, activation='relu')(hidden_1) # Second hidden ReLU layer\n",
    "out = Dense(num_classes, activation='softmax')(hidden_2) # Output softmax layer\n",
    "\n",
    "model2hid = Model(inputs=inp, outputs=out) # To define a model, just specify its input and output layers\n",
    "\n",
    "model2hid.compile(loss='categorical_crossentropy', # using the cross-entropy loss function\n",
    "              optimizer='adam', # using the Adam optimiser\n",
    "              metrics=['accuracy']) # reporting the accuracy\n",
    "\n",
    "model2hid.fit(X_train, Y_train, # Train the model using the training set...\n",
    "          batch_size=batch_size, epochs=num_epochs,\n",
    "          verbose=1, validation_split=0.1) # ...holding out 10% of the data for validation\n",
    "model2hid.evaluate(X_test, Y_test, verbose=1) # Evaluate the trained model on the test set!\n",
    "y_2hid = model2hid.predict(X_test) # Evaluate the trained model on the test set!"
   ]
  },
  {
   "cell_type": "code",
   "execution_count": 153,
   "metadata": {
    "collapsed": true
   },
   "outputs": [],
   "source": [
    "from keras.metrics import categorical_accuracy"
   ]
  },
  {
   "cell_type": "code",
   "execution_count": 154,
   "metadata": {},
   "outputs": [
    {
     "data": {
      "text/plain": [
       "<tf.Tensor 'Cast_10:0' shape=(10000,) dtype=float32>"
      ]
     },
     "execution_count": 154,
     "metadata": {},
     "output_type": "execute_result"
    }
   ],
   "source": [
    "categorical_accuracy(Y_test, y_2hid)"
   ]
  },
  {
   "cell_type": "code",
   "execution_count": 41,
   "metadata": {},
   "outputs": [
    {
     "name": "stdout",
     "output_type": "stream",
     "text": [
      "[[  2.27297264e-19   2.37877188e-12   1.83416667e-11 ...,   9.99999881e-01\n",
      "    3.75649815e-13   1.43034174e-12]\n",
      " [  5.29781937e-19   1.52510959e-14   1.00000000e+00 ...,   3.99300923e-21\n",
      "    2.03647744e-19   4.24028385e-29]\n",
      " [  3.70061620e-10   9.99994636e-01   9.86967052e-07 ...,   2.82228075e-06\n",
      "    1.48836841e-06   2.17887600e-11]\n",
      " ..., \n",
      " [  1.99870310e-20   1.82214191e-17   1.90089942e-21 ...,   6.12173954e-14\n",
      "    2.80573150e-18   2.29812886e-13]\n",
      " [  2.10935156e-21   2.25786517e-28   1.23258530e-23 ...,   8.72938016e-23\n",
      "    2.32703964e-15   3.36107707e-22]\n",
      " [  1.66602485e-12   8.70631893e-19   2.26673978e-18 ...,   9.25921701e-24\n",
      "    2.37978036e-15   1.32734364e-16]]\n",
      "[7 2 1 ..., 4 5 6]\n",
      "[[ 974    1    1    1    0    0    0    1    1    1]\n",
      " [   2 1115    7    0    0    3    4    2    2    0]\n",
      " [   4    0 1019    0    0    0    1    4    4    0]\n",
      " [   0    0    9  991    0    4    0    2    3    1]\n",
      " [   2    0    4    1  960    0    2    2    1   10]\n",
      " [   3    0    0    8    0  874    3    0    3    1]\n",
      " [   8    3    0    1    2    4  939    0    1    0]\n",
      " [   2    0   18    2    4    0    1  987    4   10]\n",
      " [   1    0    5    9    3    1    1    2  949    3]\n",
      " [   2    2    0    6    8    2    0    1    0  988]]\n"
     ]
    }
   ],
   "source": [
    "from sklearn.metrics import classification_report,confusion_matrix\n",
    "\n",
    "y_2hid = model2hid.predict(X_test)\n",
    "print(y_2hid)\n",
    "y_2hid = np.argmax(y_2hid, axis=1)\n",
    "print(y_2hid)\n",
    "print(confusion_matrix(np.argmax(Y_test,axis=1), y_2hid))"
   ]
  },
  {
   "cell_type": "markdown",
   "metadata": {},
   "source": [
    "RBM"
   ]
  },
  {
   "cell_type": "code",
   "execution_count": 54,
   "metadata": {},
   "outputs": [
    {
     "name": "stdout",
     "output_type": "stream",
     "text": [
      "Input X shape (70000, 784)\n"
     ]
    }
   ],
   "source": [
    "import numpy as np\n",
    "from sklearn.datasets import fetch_mldata\n",
    "mnist = fetch_mldata('MNIST original')\n",
    "X, Y = mnist.data, mnist.target\n",
    "X = np.asarray( X, 'float32')\n",
    "# Scaling between 0 and 1\n",
    "X = (X - np.min(X, 0)) / (np.max(X, 0) + 0.0001)  # 0-1 scaling\n",
    "# Convert to binary images\n",
    "X = X > 0.5\n",
    "print ('Input X shape', X.shape)"
   ]
  },
  {
   "cell_type": "code",
   "execution_count": 55,
   "metadata": {},
   "outputs": [
    {
     "name": "stdout",
     "output_type": "stream",
     "text": [
      "[BernoulliRBM] Iteration 1, pseudo-likelihood = -99.42, time = 64.94s\n",
      "[BernoulliRBM] Iteration 2, pseudo-likelihood = -88.00, time = 54.87s\n",
      "[BernoulliRBM] Iteration 3, pseudo-likelihood = -81.98, time = 49.90s\n",
      "[BernoulliRBM] Iteration 4, pseudo-likelihood = -77.79, time = 49.60s\n",
      "[BernoulliRBM] Iteration 5, pseudo-likelihood = -75.07, time = 50.68s\n",
      "Score:                precision    recall  f1-score   support\n",
      "\n",
      "        0.0       0.97      0.99      0.98      1312\n",
      "        1.0       0.98      0.99      0.99      1604\n",
      "        2.0       0.96      0.97      0.96      1348\n",
      "        3.0       0.96      0.95      0.95      1427\n",
      "        4.0       0.95      0.96      0.96      1362\n",
      "        5.0       0.96      0.95      0.95      1280\n",
      "        6.0       0.98      0.98      0.98      1397\n",
      "        7.0       0.97      0.96      0.97      1461\n",
      "        8.0       0.95      0.95      0.95      1390\n",
      "        9.0       0.95      0.94      0.94      1419\n",
      "\n",
      "avg / total       0.96      0.96      0.96     14000\n",
      "\n"
     ]
    }
   ],
   "source": [
    "from sklearn import cross_validation\n",
    "from sklearn.pipeline import Pipeline\n",
    "from sklearn import linear_model\n",
    "from sklearn.neural_network import BernoulliRBM\n",
    "from sklearn import svm\n",
    "from sklearn import metrics\n",
    "rbm = BernoulliRBM(n_components=200, learning_rate=0.01, batch_size=10, n_iter=5, verbose=True, random_state=None)\n",
    "sv = clf = svm.SVC(gamma=0.001, C=100.)\n",
    "clf = Pipeline(steps=[('rbm', rbm), ('clf', sv)])\n",
    "X_train, X_test, Y_train, Y_test = cross_validation.train_test_split( X, y, test_size=0.2, random_state=0)\n",
    "clf.fit(X_train, Y_train)\n",
    "Y_pred = clf.predict(X_test)\n",
    "print ('Score:  ',(metrics.classification_report(Y_test, Y_pred)))"
   ]
  },
  {
   "cell_type": "code",
   "execution_count": 94,
   "metadata": {},
   "outputs": [
    {
     "data": {
      "text/plain": [
       "array([[1300,    0,    0,    0,    2,    2,    5,    0,    2,    1],\n",
       "       [   0, 1588,    7,    1,    1,    0,    0,    1,    3,    3],\n",
       "       [   5,    6, 1309,    8,    4,    1,    4,    5,    6,    0],\n",
       "       [   1,    3,   18, 1353,    0,   18,    0,    8,   21,    5],\n",
       "       [   2,    1,    4,    0, 1312,    0,    6,    5,    5,   27],\n",
       "       [   6,    1,    6,   16,    2, 1210,   15,    1,   18,    5],\n",
       "       [  12,    0,    2,    0,    4,    5, 1369,    0,    5,    0],\n",
       "       [   3,    4,    8,    2,   10,    2,    0, 1408,    2,   22],\n",
       "       [   3,   11,    5,   20,    4,   14,    2,    2, 1323,    6],\n",
       "       [   2,    4,    7,   16,   37,    4,    1,   16,    4, 1328]])"
      ]
     },
     "execution_count": 94,
     "metadata": {},
     "output_type": "execute_result"
    }
   ],
   "source": [
    "from sklearn.metrics import confusion_matrix\n",
    "confusion_matrix(Y_test, Y_pred)"
   ]
  },
  {
   "cell_type": "markdown",
   "metadata": {
    "collapsed": true
   },
   "source": [
    "    Decision Tree"
   ]
  },
  {
   "cell_type": "code",
   "execution_count": 88,
   "metadata": {},
   "outputs": [
    {
     "data": {
      "text/plain": [
       "((60000,), (60000, 784))"
      ]
     },
     "execution_count": 88,
     "metadata": {},
     "output_type": "execute_result"
    }
   ],
   "source": [
    "y_train.shape,X_train.shape"
   ]
  },
  {
   "cell_type": "code",
   "execution_count": 89,
   "metadata": {},
   "outputs": [
    {
     "data": {
      "text/plain": [
       "1.4357576397150043"
      ]
     },
     "execution_count": 89,
     "metadata": {},
     "output_type": "execute_result"
    }
   ],
   "source": [
    "from sklearn.metrics import mean_squared_error\n",
    "from sklearn.tree import DecisionTreeClassifier\n",
    "\n",
    "tree_mnist = DecisionTreeClassifier()\n",
    "a = tree_mnist.fit(X_train,y_train)\n",
    "tree_predictions = a.predict(X_test)\n",
    "\n",
    "tree_mse = mean_squared_error(tree_predictions, y_test)\n",
    "tree_rmse = np.sqrt(tree_mse)\n",
    "tree_rmse"
   ]
  },
  {
   "cell_type": "code",
   "execution_count": 90,
   "metadata": {},
   "outputs": [
    {
     "data": {
      "text/plain": [
       "array([[ 917,    1,    8,    8,    3,   13,   12,    4,    9,    5],\n",
       "       [   1, 1086,   10,    8,    4,    6,    8,    1,    8,    3],\n",
       "       [  11,   15,  876,   31,   17,   11,   11,   29,   21,   10],\n",
       "       [   9,    6,   27,  859,   10,   45,    2,    8,   26,   18],\n",
       "       [   5,    2,    7,    6,  866,    8,   14,   10,   25,   39],\n",
       "       [  13,    7,    2,   43,    9,  738,   24,    7,   28,   21],\n",
       "       [  17,    5,   14,    7,   17,   19,  847,    2,   26,    4],\n",
       "       [   3,   13,   24,   14,    8,    5,    1,  931,    7,   22],\n",
       "       [   9,    8,   28,   38,   20,   34,   18,   11,  780,   28],\n",
       "       [  14,    5,    9,   21,   35,   11,    7,   24,   21,  862]])"
      ]
     },
     "execution_count": 90,
     "metadata": {},
     "output_type": "execute_result"
    }
   ],
   "source": [
    "from sklearn.metrics import confusion_matrix\n",
    "confusion_matrix(y_test, tree_predictions)"
   ]
  },
  {
   "cell_type": "code",
   "execution_count": 91,
   "metadata": {
    "scrolled": true
   },
   "outputs": [
    {
     "name": "stdout",
     "output_type": "stream",
     "text": [
      "Score:                precision    recall  f1-score   support\n",
      "\n",
      "        0.0       0.92      0.94      0.93       980\n",
      "        1.0       0.95      0.96      0.95      1135\n",
      "        2.0       0.87      0.85      0.86      1032\n",
      "        3.0       0.83      0.85      0.84      1010\n",
      "        4.0       0.88      0.88      0.88       982\n",
      "        5.0       0.83      0.83      0.83       892\n",
      "        6.0       0.90      0.88      0.89       958\n",
      "        7.0       0.91      0.91      0.91      1028\n",
      "        8.0       0.82      0.80      0.81       974\n",
      "        9.0       0.85      0.85      0.85      1009\n",
      "\n",
      "avg / total       0.88      0.88      0.88     10000\n",
      "\n"
     ]
    }
   ],
   "source": [
    "from sklearn import cross_validation\n",
    "from sklearn import metrics\n",
    "\n",
    "print ('Score:  ',(metrics.classification_report(y_test, tree_predictions)))"
   ]
  },
  {
   "cell_type": "code",
   "execution_count": 92,
   "metadata": {},
   "outputs": [
    {
     "data": {
      "text/plain": [
       "(14000,)"
      ]
     },
     "execution_count": 92,
     "metadata": {},
     "output_type": "execute_result"
    }
   ],
   "source": [
    "Y_test.shape"
   ]
  },
  {
   "cell_type": "code",
   "execution_count": 93,
   "metadata": {},
   "outputs": [
    {
     "name": "stdout",
     "output_type": "stream",
     "text": [
      "0.8762\n"
     ]
    }
   ],
   "source": [
    "from sklearn import metrics\n",
    "print (metrics.accuracy_score(tree_predictions, y_test))"
   ]
  },
  {
   "cell_type": "markdown",
   "metadata": {},
   "source": [
    "    Random Forest"
   ]
  },
  {
   "cell_type": "code",
   "execution_count": 64,
   "metadata": {},
   "outputs": [
    {
     "data": {
      "text/plain": [
       "RandomForestClassifier(bootstrap=True, class_weight=None, criterion='gini',\n",
       "            max_depth=None, max_features='auto', max_leaf_nodes=None,\n",
       "            min_impurity_split=1e-07, min_samples_leaf=1,\n",
       "            min_samples_split=2, min_weight_fraction_leaf=0.0,\n",
       "            n_estimators=100, n_jobs=1, oob_score=False, random_state=None,\n",
       "            verbose=0, warm_start=False)"
      ]
     },
     "execution_count": 64,
     "metadata": {},
     "output_type": "execute_result"
    }
   ],
   "source": [
    "from sklearn.ensemble import RandomForestClassifier\n",
    "\n",
    "rf = RandomForestClassifier(n_estimators=100)\n",
    "rf.fit(Xf_train,yf_train)\n"
   ]
  },
  {
   "cell_type": "code",
   "execution_count": 49,
   "metadata": {},
   "outputs": [
    {
     "name": "stdout",
     "output_type": "stream",
     "text": [
      "0.9703\n"
     ]
    }
   ],
   "source": [
    "from sklearn import metrics\n",
    "y_rf_pred = rf.predict(Xf_test)\n",
    "\n",
    "print(metrics.accuracy_score(y_rf_pred,y_test))"
   ]
  },
  {
   "cell_type": "code",
   "execution_count": 50,
   "metadata": {},
   "outputs": [
    {
     "data": {
      "text/plain": [
       "array([[ 969,    1,    1,    0,    0,    2,    3,    1,    3,    0],\n",
       "       [   0, 1124,    0,    5,    0,    2,    2,    0,    1,    1],\n",
       "       [   5,    0, 1000,    7,    2,    0,    3,    9,    6,    0],\n",
       "       [   1,    0,   11,  972,    0,    7,    0,    9,    9,    1],\n",
       "       [   1,    0,    2,    0,  958,    0,    4,    0,    3,   14],\n",
       "       [   4,    1,    1,   13,    3,  858,    6,    1,    4,    1],\n",
       "       [   7,    3,    1,    0,    3,    3,  937,    0,    4,    0],\n",
       "       [   1,    2,   18,    2,    1,    0,    0,  992,    2,   10],\n",
       "       [   4,    0,    6,    7,    6,    4,    4,    4,  933,    6],\n",
       "       [   7,    5,    1,   10,   13,    5,    1,    4,    3,  960]])"
      ]
     },
     "execution_count": 50,
     "metadata": {},
     "output_type": "execute_result"
    }
   ],
   "source": [
    "from sklearn.metrics import confusion_matrix\n",
    "confusion_matrix(yf_test, y_rf_pred)"
   ]
  },
  {
   "cell_type": "code",
   "execution_count": 51,
   "metadata": {},
   "outputs": [
    {
     "name": "stdout",
     "output_type": "stream",
     "text": [
      "Score:                precision    recall  f1-score   support\n",
      "\n",
      "          0       0.97      0.99      0.98       980\n",
      "          1       0.99      0.99      0.99      1135\n",
      "          2       0.96      0.97      0.96      1032\n",
      "          3       0.96      0.96      0.96      1010\n",
      "          4       0.97      0.98      0.97       982\n",
      "          5       0.97      0.96      0.97       892\n",
      "          6       0.98      0.98      0.98       958\n",
      "          7       0.97      0.96      0.97      1028\n",
      "          8       0.96      0.96      0.96       974\n",
      "          9       0.97      0.95      0.96      1009\n",
      "\n",
      "avg / total       0.97      0.97      0.97     10000\n",
      "\n"
     ]
    }
   ],
   "source": [
    "from sklearn import cross_validation\n",
    "from sklearn import metrics\n",
    "\n",
    "print ('Score:  ',(metrics.classification_report(yf_test, y_rf_pred)))"
   ]
  },
  {
   "cell_type": "code",
   "execution_count": 57,
   "metadata": {},
   "outputs": [
    {
     "data": {
      "text/plain": [
       "((56000, 784), (10000,))"
      ]
     },
     "execution_count": 57,
     "metadata": {},
     "output_type": "execute_result"
    }
   ],
   "source": [
    "X_train.shape, y_rf_pred.shape"
   ]
  },
  {
   "cell_type": "code",
   "execution_count": 58,
   "metadata": {},
   "outputs": [
    {
     "data": {
      "text/plain": [
       "(70000, 784)"
      ]
     },
     "execution_count": 58,
     "metadata": {},
     "output_type": "execute_result"
    }
   ],
   "source": [
    "Xforest, yforest = mnist[\"data\"], mnist[\"target\"]\n",
    "Xforest.shape"
   ]
  },
  {
   "cell_type": "code",
   "execution_count": 59,
   "metadata": {
    "collapsed": true
   },
   "outputs": [],
   "source": [
    "Xf_train, Xf_test, yf_train, yf_test = Xforest[:60000], Xforest[60000:], yforest[:60000], yforest[60000:]"
   ]
  },
  {
   "cell_type": "code",
   "execution_count": 60,
   "metadata": {},
   "outputs": [
    {
     "data": {
      "text/plain": [
       "(60000, 784)"
      ]
     },
     "execution_count": 60,
     "metadata": {},
     "output_type": "execute_result"
    }
   ],
   "source": [
    "shuffle_index = np.random.permutation(60000)\n",
    "Xf_train, yf_train = Xf_train[shuffle_index], yf_train[shuffle_index]\n",
    "Xf_train.shape"
   ]
  },
  {
   "cell_type": "code",
   "execution_count": 76,
   "metadata": {
    "scrolled": true
   },
   "outputs": [
    {
     "data": {
      "text/plain": [
       "(60000,)"
      ]
     },
     "execution_count": 76,
     "metadata": {},
     "output_type": "execute_result"
    }
   ],
   "source": [
    "yf_scores = cross_val_predict(rf, Xf_train, yf_train, cv=3)\n",
    "yf_scores.shape"
   ]
  }
 ],
 "metadata": {
  "kernelspec": {
   "display_name": "Python 3",
   "language": "python",
   "name": "python3"
  },
  "toc": {
   "nav_menu": {},
   "number_sections": true,
   "sideBar": true,
   "skip_h1_title": false,
   "toc_cell": false,
   "toc_position": {},
   "toc_section_display": "block",
   "toc_window_display": false
  }
 },
 "nbformat": 4,
 "nbformat_minor": 2
}
