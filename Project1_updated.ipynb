{
 "cells": [
  {
   "cell_type": "code",
   "execution_count": 1,
   "metadata": {},
   "outputs": [
    {
     "data": {
      "text/plain": [
       "{'COL_NAMES': ['label', 'data'],\n",
       " 'DESCR': 'mldata.org dataset: mnist-original',\n",
       " 'data': array([[0, 0, 0, ..., 0, 0, 0],\n",
       "        [0, 0, 0, ..., 0, 0, 0],\n",
       "        [0, 0, 0, ..., 0, 0, 0],\n",
       "        ..., \n",
       "        [0, 0, 0, ..., 0, 0, 0],\n",
       "        [0, 0, 0, ..., 0, 0, 0],\n",
       "        [0, 0, 0, ..., 0, 0, 0]], dtype=uint8),\n",
       " 'target': array([ 0.,  0.,  0., ...,  9.,  9.,  9.])}"
      ]
     },
     "execution_count": 1,
     "metadata": {},
     "output_type": "execute_result"
    }
   ],
   "source": [
    "import numpy as np\n",
    "from sklearn.datasets import fetch_mldata\n",
    "mnist = fetch_mldata('MNIST original')\n",
    "mnist"
   ]
  },
  {
   "cell_type": "code",
   "execution_count": 2,
   "metadata": {},
   "outputs": [
    {
     "data": {
      "text/plain": [
       "(70000, 784)"
      ]
     },
     "execution_count": 2,
     "metadata": {},
     "output_type": "execute_result"
    }
   ],
   "source": [
    "X, y = mnist[\"data\"], mnist[\"target\"]\n",
    "X.shape"
   ]
  },
  {
   "cell_type": "code",
   "execution_count": 3,
   "metadata": {},
   "outputs": [
    {
     "data": {
      "text/plain": [
       "(70000,)"
      ]
     },
     "execution_count": 3,
     "metadata": {},
     "output_type": "execute_result"
    }
   ],
   "source": [
    "y.shape"
   ]
  },
  {
   "cell_type": "code",
   "execution_count": 4,
   "metadata": {},
   "outputs": [
    {
     "data": {
      "image/png": "[encoded data removed]",
      "text/plain": [
       "<matplotlib.figure.Figure at 0x18403f08d30>"
      ]
     },
     "metadata": {},
     "output_type": "display_data"
    }
   ],
   "source": [
    "%matplotlib inline\n",
    "import matplotlib\n",
    "import matplotlib.pyplot as plt\n",
    "some_digit = X[69999]\n",
    "some_digit_image = some_digit.reshape(28, 28)\n",
    "plt.imshow(some_digit_image, cmap = matplotlib.cm.binary,\n",
    "interpolation=\"nearest\")\n",
    "plt.axis(\"off\")\n",
    "plt.show()"
   ]
  },
  {
   "cell_type": "code",
   "execution_count": 5,
   "metadata": {},
   "outputs": [
    {
     "data": {
      "text/plain": [
       "9.0"
      ]
     },
     "execution_count": 5,
     "metadata": {},
     "output_type": "execute_result"
    }
   ],
   "source": [
    "y[69999]"
   ]
  },
  {
   "cell_type": "code",
   "execution_count": 6,
   "metadata": {
    "collapsed": true
   },
   "outputs": [],
   "source": [
    "X_train, X_test, y_train, y_test = X[:60000], X[60000:], y[:60000], y[60000:]"
   ]
  },
  {
   "cell_type": "code",
   "execution_count": 73,
   "metadata": {
    "collapsed": true
   },
   "outputs": [],
   "source": [
    "X2_train, X2_test, y2_train, y2_test = X[:50000], X[50000:], y[:50000], y[50000:]"
   ]
  },
  {
   "cell_type": "code",
   "execution_count": 7,
   "metadata": {},
   "outputs": [
    {
     "data": {
      "text/plain": [
       "(60000, 784)"
      ]
     },
     "execution_count": 7,
     "metadata": {},
     "output_type": "execute_result"
    }
   ],
   "source": [
    "shuffle_index = np.random.permutation(60000)\n",
    "X_train, y_train = X_train[shuffle_index], y_train[shuffle_index]\n",
    "X_train.shape"
   ]
  },
  {
   "cell_type": "code",
   "execution_count": 74,
   "metadata": {
    "scrolled": true
   },
   "outputs": [
    {
     "data": {
      "text/plain": [
       "(50000, 784)"
      ]
     },
     "execution_count": 74,
     "metadata": {},
     "output_type": "execute_result"
    }
   ],
   "source": [
    "shuffle_index = np.random.permutation(50000)\n",
    "X2_train, y2_train = X2_train[shuffle_index], y_train[shuffle_index]\n",
    "X2_train.shape"
   ]
  },
  {
   "cell_type": "markdown",
   "metadata": {},
   "source": [
    "   Linear Classification"
   ]
  },
  {
   "cell_type": "code",
   "execution_count": 104,
   "metadata": {},
   "outputs": [
    {
     "name": "stderr",
     "output_type": "stream",
     "text": [
      "C:\\ProgramData\\Anaconda3\\lib\\site-packages\\sklearn\\linear_model\\stochastic_gradient.py:84: FutureWarning: max_iter and tol parameters have been added in <class 'sklearn.linear_model.stochastic_gradient.SGDClassifier'> in 0.19. If both are left unset, they default to max_iter=5 and tol=None. If tol is not None, max_iter defaults to max_iter=1000. From 0.21, default max_iter will be 1000, and default tol will be 1e-3.\n",
      "  \"and default tol will be 1e-3.\" % type(self), FutureWarning)\n"
     ]
    },
    {
     "data": {
      "text/plain": [
       "SGDClassifier(alpha=0.0001, average=False, class_weight=None, epsilon=0.1,\n",
       "       eta0=0.0, fit_intercept=True, l1_ratio=0.15,\n",
       "       learning_rate='optimal', loss='hinge', max_iter=5, n_iter=None,\n",
       "       n_jobs=1, penalty='l2', power_t=0.5, random_state=20, shuffle=True,\n",
       "       tol=None, verbose=0, warm_start=False)"
      ]
     },
     "execution_count": 104,
     "metadata": {},
     "output_type": "execute_result"
    }
   ],
   "source": [
    "from sklearn.linear_model import SGDClassifier\n",
    "sgd_clf2 = SGDClassifier(random_state=20)\n",
    "sgd_clf2.fit(X2_train, y2_train)"
   ]
  },
  {
   "cell_type": "code",
   "execution_count": 105,
   "metadata": {},
   "outputs": [
    {
     "data": {
      "text/plain": [
       "array([2, 3, 1, ..., 4, 1, 1], dtype=uint8)"
      ]
     },
     "execution_count": 105,
     "metadata": {},
     "output_type": "execute_result"
    }
   ],
   "source": [
    "sgd_clf2.predict(X2_train)"
   ]
  },
  {
   "cell_type": "markdown",
   "metadata": {},
   "source": [
    "    Accuracy"
   ]
  },
  {
   "cell_type": "code",
   "execution_count": 108,
   "metadata": {},
   "outputs": [
    {
     "data": {
      "text/plain": [
       "array([ 0.09664647,  0.09695806,  0.09337494])"
      ]
     },
     "execution_count": 108,
     "metadata": {},
     "output_type": "execute_result"
    }
   ],
   "source": [
    "from sklearn.model_selection import cross_val_score\n",
    "cross_val_score(sgd_clf2, X2_train, y2_train, cv=3, scoring=\"accuracy\")"
   ]
  },
  {
   "cell_type": "markdown",
   "metadata": {},
   "source": [
    "    Confusion Matrix"
   ]
  },
  {
   "cell_type": "code",
   "execution_count": 109,
   "metadata": {},
   "outputs": [
    {
     "name": "stdout",
     "output_type": "stream",
     "text": [
      "[0 4 6 ..., 8 1 7]\n"
     ]
    }
   ],
   "source": [
    "from sklearn.model_selection import cross_val_predict\n",
    "y_train_pred2 = cross_val_predict(sgd_clf2, X2_train, y2_train, cv=3)\n",
    "print(y_train_pred2)"
   ]
  },
  {
   "cell_type": "code",
   "execution_count": 113,
   "metadata": {},
   "outputs": [
    {
     "name": "stdout",
     "output_type": "stream",
     "text": [
      "[[379  63 335 395 567 230 900 759 834 470]\n",
      " [476  70 369 452 688 268 979 869 935 572]\n",
      " [363  43 299 405 586 220 941 750 873 488]\n",
      " [405  33 356 409 598 252 935 752 873 488]\n",
      " [381  52 308 419 552 250 915 702 804 476]\n",
      " [363  61 308 378 548 195 806 656 744 447]\n",
      " [364  49 325 409 590 260 888 714 848 504]\n",
      " [393  52 375 418 648 257 912 768 850 502]\n",
      " [356  57 323 401 578 220 864 739 764 540]\n",
      " [381  51 364 415 641 230 942 686 819 459]]\n"
     ]
    }
   ],
   "source": [
    "from sklearn.metrics import confusion_matrix\n",
    "sgd_conf_mx = confusion_matrix(y2_train, y_train_pred2)\n",
    "print (sgd_conf_mx)"
   ]
  },
  {
   "cell_type": "code",
   "execution_count": 114,
   "metadata": {},
   "outputs": [
    {
     "data": {
      "image/png": "[encoded data removed]",
      "text/plain": [
       "<matplotlib.figure.Figure at 0x1840592a198>"
      ]
     },
     "metadata": {},
     "output_type": "display_data"
    }
   ],
   "source": [
    "plt.matshow(sgd_conf_mx, cmap=plt.cm.gray)\n",
    "plt.show()"
   ]
  },
  {
   "cell_type": "markdown",
   "metadata": {},
   "source": [
    "Classification report for 50000 sample training set"
   ]
  },
  {
   "cell_type": "code",
   "execution_count": 111,
   "metadata": {},
   "outputs": [
    {
     "name": "stdout",
     "output_type": "stream",
     "text": [
      "Score:                precision    recall  f1-score   support\n",
      "\n",
      "          0       0.08      0.10      0.09      3861\n",
      "          1       0.01      0.13      0.02       531\n",
      "          2       0.06      0.09      0.07      3362\n",
      "          3       0.08      0.10      0.09      4101\n",
      "          4       0.11      0.09      0.10      5996\n",
      "          5       0.04      0.08      0.06      2382\n",
      "          6       0.18      0.10      0.13      9082\n",
      "          7       0.15      0.10      0.12      7395\n",
      "          8       0.16      0.09      0.12      8344\n",
      "          9       0.09      0.09      0.09      4946\n",
      "\n",
      "avg / total       0.12      0.10      0.10     50000\n",
      "\n"
     ]
    }
   ],
   "source": [
    "from sklearn import metrics\n",
    "print ('Score:  ',(metrics.classification_report(y_train_pred2, y2_train)))"
   ]
  },
  {
   "cell_type": "markdown",
   "metadata": {
    "collapsed": true
   },
   "source": [
    "KNN"
   ]
  },
  {
   "cell_type": "code",
   "execution_count": 20,
   "metadata": {},
   "outputs": [
    {
     "name": "stderr",
     "output_type": "stream",
     "text": [
      "C:\\ProgramData\\Anaconda3\\lib\\site-packages\\sklearn\\cross_validation.py:41: DeprecationWarning: This module was deprecated in version 0.18 in favor of the model_selection module into which all the refactored classes and functions are moved. Also note that the interface of the new CV iterators are different from that of this module. This module will be removed in 0.20.\n",
      "  \"This module will be removed in 0.20.\", DeprecationWarning)\n"
     ]
    },
    {
     "name": "stdout",
     "output_type": "stream",
     "text": [
      "training data points: 47250\n",
      "validation data points: 5250\n",
      "testing data points: 17500\n"
     ]
    }
   ],
   "source": [
    "from sklearn.cross_validation import train_test_split\n",
    "from sklearn.neighbors import KNeighborsClassifier\n",
    "from sklearn.metrics import classification_report\n",
    "from sklearn import datasets\n",
    "from skimage import exposure\n",
    "from sklearn.datasets import fetch_mldata\n",
    "import numpy as np\n",
    "\n",
    "mnist = fetch_mldata('MNIST original')\n",
    "mnist\n",
    " \n",
    "# take the MNIST data and construct the training and testing split, using 75% of the\n",
    "# data for training and 25% for testing\n",
    "(trainData, testData, trainLabels, testLabels) = train_test_split(np.array(mnist.data),\n",
    "\tmnist.target, test_size=0.25, random_state=42)\n",
    " \n",
    "# now, let's take 10% of the training data and use that for validation\n",
    "(trainData, valData, trainLabels, valLabels) = train_test_split(trainData, trainLabels,\n",
    "\ttest_size=0.1, random_state=84)\n",
    "\n",
    "print(\"training data points: {}\".format(len(trainLabels)))\n",
    "print(\"validation data points: {}\".format(len(valLabels)))\n",
    "print(\"testing data points: {}\".format(len(testLabels)))"
   ]
  },
  {
   "cell_type": "code",
   "execution_count": 21,
   "metadata": {},
   "outputs": [
    {
     "name": "stdout",
     "output_type": "stream",
     "text": [
      "k=1, accuracy=97.35%\n",
      "k=3, accuracy=97.68%\n",
      "k=5, accuracy=97.43%\n",
      "k=7, accuracy=97.28%\n",
      "k=9, accuracy=97.09%\n",
      "k=3 achieved highest accuracy of 97.68% on validation data\n"
     ]
    }
   ],
   "source": [
    "# initialize the values of k for our k-Nearest Neighbor classifier along with the\n",
    "# list of accuracies for each value of k\n",
    "kVals = range(1, 10, 2)\n",
    "accuracies = []\n",
    " \n",
    "# loop over various values of `k` for the k-Nearest Neighbor classifier\n",
    "for k in range(1, 10, 2):\n",
    "\t# train the k-Nearest Neighbor classifier with the current value of `k`\n",
    "\tmodelknn = KNeighborsClassifier(n_neighbors=k)\n",
    "\tmodelknn.fit(trainData, trainLabels)\n",
    " \n",
    "\t# evaluate the model and update the accuracies list\n",
    "\tscore = modelknn.score(valData, valLabels)\n",
    "\tprint(\"k=%d, accuracy=%.2f%%\" % (k, score * 100))\n",
    "\taccuracies.append(score)\n",
    " \n",
    "# find the value of k that has the largest accuracy\n",
    "i = np.argmax(accuracies)\n",
    "print(\"k=%d achieved highest accuracy of %.2f%% on validation data\" % (kVals[i],\n",
    "\taccuracies[i] * 100))"
   ]
  },
  {
   "cell_type": "code",
   "execution_count": 22,
   "metadata": {},
   "outputs": [
    {
     "name": "stdout",
     "output_type": "stream",
     "text": [
      "EVALUATION ON TESTING DATA\n",
      "             precision    recall  f1-score   support\n",
      "\n",
      "        0.0       0.97      0.99      0.98      1677\n",
      "        1.0       0.96      1.00      0.98      1935\n",
      "        2.0       0.98      0.97      0.98      1767\n",
      "        3.0       0.97      0.97      0.97      1766\n",
      "        4.0       0.97      0.97      0.97      1691\n",
      "        5.0       0.98      0.96      0.97      1653\n",
      "        6.0       0.98      0.99      0.98      1754\n",
      "        7.0       0.97      0.97      0.97      1846\n",
      "        8.0       0.98      0.94      0.96      1702\n",
      "        9.0       0.95      0.96      0.95      1709\n",
      "\n",
      "avg / total       0.97      0.97      0.97     17500\n",
      "\n"
     ]
    }
   ],
   "source": [
    "# re-train our classifier using the best k value and predict the labels of the\n",
    "# test data\n",
    "modelknn = KNeighborsClassifier(n_neighbors=kVals[i])\n",
    "modelknn.fit(trainData, trainLabels)\n",
    "predictions = modelknn.predict(testData)\n",
    " \n",
    "# show a final classification report demonstrating the accuracy of the classifier\n",
    "# for each of the digits\n",
    "print(\"EVALUATION ON TESTING DATA\")\n",
    "print(classification_report(testLabels, predictions))"
   ]
  },
  {
   "cell_type": "code",
   "execution_count": 25,
   "metadata": {},
   "outputs": [
    {
     "data": {
      "text/plain": [
       "array([[5886,    4,    3,    0,    1,    6,   16,    2,    1,    4],\n",
       "       [   1, 6706,   11,    1,    2,    0,    3,   11,    1,    6],\n",
       "       [  43,   54, 5730,   12,   10,    5,    9,   79,   10,    6],\n",
       "       [   6,   19,   42, 5907,    1,   59,    5,   33,   35,   24],\n",
       "       [   9,   52,    1,    1, 5637,    0,   14,    9,    2,  117],\n",
       "       [  19,   14,    9,   68,    9, 5206,   56,    6,    9,   25],\n",
       "       [  25,   12,    1,    0,    8,   24, 5845,    0,    3,    0],\n",
       "       [   4,   57,   16,    3,   16,    1,    0, 6105,    1,   62],\n",
       "       [  26,   77,   37,   89,   32,   80,   22,   17, 5406,   65],\n",
       "       [  15,   15,    7,   41,   59,   12,    2,   74,    7, 5717]], dtype=int64)"
      ]
     },
     "execution_count": 25,
     "metadata": {},
     "output_type": "execute_result"
    }
   ],
   "source": [
    "from sklearn.model_selection import cross_val_predict\n",
    "from sklearn.metrics import confusion_matrix\n",
    "y_train_pred = cross_val_predict(modelknn, X_train, y_train, cv=3)\n",
    "conf_mx = confusion_matrix(y_train, y_train_pred)\n",
    "conf_mx"
   ]
  },
  {
   "cell_type": "code",
   "execution_count": 115,
   "metadata": {},
   "outputs": [
    {
     "data": {
      "image/png": "[encoded data removed]",
      "text/plain": [
       "<matplotlib.figure.Figure at 0x1840595a278>"
      ]
     },
     "metadata": {},
     "output_type": "display_data"
    }
   ],
   "source": [
    "plt.matshow(conf_mx, cmap=plt.cm.gray)\n",
    "plt.show()"
   ]
  },
  {
   "cell_type": "code",
   "execution_count": 51,
   "metadata": {},
   "outputs": [
    {
     "data": {
      "text/plain": [
       "(60000,)"
      ]
     },
     "execution_count": 51,
     "metadata": {},
     "output_type": "execute_result"
    }
   ],
   "source": [
    "y_knnscores = cross_val_predict(modelknn, X_train, y_train_pred, cv=3)\n",
    "y_knnscores.shape"
   ]
  },
  {
   "cell_type": "markdown",
   "metadata": {},
   "source": [
    " Sample size = 60000 : 10000, Classifier = lbgs"
   ]
  },
  {
   "cell_type": "markdown",
   "metadata": {},
   "source": [
    " One hidden layer neural network"
   ]
  },
  {
   "cell_type": "markdown",
   "metadata": {},
   "source": [
    "  Changed batch size, num_epochs, hidden size and activation function"
   ]
  },
  {
   "cell_type": "code",
   "execution_count": 118,
   "metadata": {},
   "outputs": [
    {
     "name": "stdout",
     "output_type": "stream",
     "text": [
      "Train on 54000 samples, validate on 6000 samples\n",
      "Epoch 1/25\n",
      "54000/54000 [==============================] - 3s - loss: 0.3607 - acc: 0.8964 - val_loss: 0.1862 - val_acc: 0.9503\n",
      "Epoch 2/25\n",
      "54000/54000 [==============================] - 3s - loss: 0.1977 - acc: 0.9428 - val_loss: 0.1480 - val_acc: 0.9585\n",
      "Epoch 3/25\n",
      "54000/54000 [==============================] - 3s - loss: 0.1411 - acc: 0.9592 - val_loss: 0.1100 - val_acc: 0.9697\n",
      "Epoch 4/25\n",
      "54000/54000 [==============================] - 3s - loss: 0.1060 - acc: 0.9693 - val_loss: 0.0937 - val_acc: 0.9740\n",
      "Epoch 5/25\n",
      "54000/54000 [==============================] - 3s - loss: 0.0839 - acc: 0.9761 - val_loss: 0.0883 - val_acc: 0.9745\n",
      "Epoch 6/25\n",
      "54000/54000 [==============================] - 3s - loss: 0.0667 - acc: 0.9809 - val_loss: 0.0827 - val_acc: 0.9752\n",
      "Epoch 7/25\n",
      "54000/54000 [==============================] - 3s - loss: 0.0541 - acc: 0.9848 - val_loss: 0.0766 - val_acc: 0.9773\n",
      "Epoch 8/25\n",
      "54000/54000 [==============================] - 3s - loss: 0.0427 - acc: 0.9886 - val_loss: 0.0745 - val_acc: 0.9758\n",
      "Epoch 9/25\n",
      "54000/54000 [==============================] - 3s - loss: 0.0354 - acc: 0.9909 - val_loss: 0.0695 - val_acc: 0.9797\n",
      "Epoch 10/25\n",
      "54000/54000 [==============================] - 3s - loss: 0.0282 - acc: 0.9935 - val_loss: 0.0689 - val_acc: 0.9795\n",
      "Epoch 11/25\n",
      "54000/54000 [==============================] - 3s - loss: 0.0228 - acc: 0.9954 - val_loss: 0.0667 - val_acc: 0.9812\n",
      "Epoch 12/25\n",
      "54000/54000 [==============================] - 3s - loss: 0.0180 - acc: 0.9968 - val_loss: 0.0689 - val_acc: 0.9798\n",
      "Epoch 13/25\n",
      "54000/54000 [==============================] - 3s - loss: 0.0148 - acc: 0.9974 - val_loss: 0.0655 - val_acc: 0.9808\n",
      "Epoch 14/25\n",
      "54000/54000 [==============================] - 3s - loss: 0.0119 - acc: 0.9982 - val_loss: 0.0701 - val_acc: 0.9808\n",
      "Epoch 15/25\n",
      "54000/54000 [==============================] - 3s - loss: 0.0091 - acc: 0.9989 - val_loss: 0.0683 - val_acc: 0.9795\n",
      "Epoch 16/25\n",
      "54000/54000 [==============================] - 3s - loss: 0.0071 - acc: 0.9995 - val_loss: 0.0656 - val_acc: 0.9807\n",
      "Epoch 17/25\n",
      "54000/54000 [==============================] - 3s - loss: 0.0059 - acc: 0.9995 - val_loss: 0.0734 - val_acc: 0.9805\n",
      "Epoch 18/25\n",
      "54000/54000 [==============================] - 3s - loss: 0.0048 - acc: 0.9997 - val_loss: 0.0686 - val_acc: 0.9812\n",
      "Epoch 19/25\n",
      "54000/54000 [==============================] - 3s - loss: 0.0039 - acc: 0.9998 - val_loss: 0.0689 - val_acc: 0.9807\n",
      "Epoch 20/25\n",
      "54000/54000 [==============================] - 3s - loss: 0.0030 - acc: 0.9999 - val_loss: 0.0706 - val_acc: 0.9802\n",
      "Epoch 21/25\n",
      "54000/54000 [==============================] - 3s - loss: 0.0024 - acc: 0.9999 - val_loss: 0.0692 - val_acc: 0.9817\n",
      "Epoch 22/25\n",
      "54000/54000 [==============================] - 3s - loss: 0.0022 - acc: 0.9999 - val_loss: 0.0668 - val_acc: 0.9813\n",
      "Epoch 23/25\n",
      "54000/54000 [==============================] - 3s - loss: 0.0028 - acc: 0.9995 - val_loss: 0.0849 - val_acc: 0.9778\n",
      "Epoch 24/25\n",
      "54000/54000 [==============================] - 3s - loss: 0.0062 - acc: 0.9988 - val_loss: 0.0758 - val_acc: 0.9807\n",
      "Epoch 25/25\n",
      "54000/54000 [==============================] - 4s - loss: 0.0014 - acc: 0.9999 - val_loss: 0.0709 - val_acc: 0.9835\n",
      " 9120/10000 [==========================>...] - ETA: 0s"
     ]
    },
    {
     "data": {
      "text/plain": [
       "[0.071374203202531128, 0.98129999999999995]"
      ]
     },
     "execution_count": 118,
     "metadata": {},
     "output_type": "execute_result"
    }
   ],
   "source": [
    "from keras.datasets import mnist # subroutines for fetching the MNIST dataset\n",
    "from keras.models import Model # basic class for specifying and training a neural network\n",
    "from keras.layers import Input, Dense # the two types of neural network layer we will be using\n",
    "from keras.utils import np_utils # utilities for one-hot encoding of ground truth values\n",
    "\n",
    "batch_size = 130 # in each iteration, we consider 128 training examples at once\n",
    "num_epochs = 25 # we iterate twenty-five times over the entire training set\n",
    "hidden_size = 256 # there will be 256 neurons in both hidden layers\n",
    "\n",
    "num_train = 60000 # there are 60000 training examples in MNIST\n",
    "num_test = 10000 # there are 10000 test examples in MNIST\n",
    "\n",
    "height, width, depth = 28, 28, 1 # MNIST images are 28x28 and greyscale\n",
    "num_classes = 10 # there are 10 classes (1 per digit)\n",
    "\n",
    "(X_train, y_train), (X_test, y_test) = mnist.load_data() # fetch MNIST data\n",
    "\n",
    "X_train = X_train.reshape(num_train, height * width) # Flatten data to 1D\n",
    "X_test = X_test.reshape(num_test, height * width) # Flatten data to 1D\n",
    "X_train = X_train.astype('float32') \n",
    "X_test = X_test.astype('float32')\n",
    "X_train /= 255 # Normalise data to [0, 1] range\n",
    "X_test /= 255 # Normalise data to [0, 1] range\n",
    "\n",
    "Y_train = np_utils.to_categorical(y_train, num_classes) # One-hot encode the labels\n",
    "Y_test = np_utils.to_categorical(y_test, num_classes) # One-hot encode the labels\n",
    "\n",
    "inp = Input(shape=(height * width,)) # Our input is a 1D vector of size 784\n",
    "hidden_1 = Dense(hidden_size, activation='tanh')(inp) # First hidden tanh layer\n",
    "\n",
    "out = Dense(num_classes, activation='softmax')(hidden_1) # Output softmax layer\n",
    "\n",
    "model_1hid = Model(inputs=inp, outputs=out) # To define a model, just specify its input and output layers\n",
    "\n",
    "model_1hid.compile(loss='categorical_crossentropy', # using the cross-entropy loss function\n",
    "              optimizer='adam', # using the Adam optimiser\n",
    "              metrics=['accuracy']) # reporting the accuracy\n",
    "\n",
    "model_1hid.fit(X_train, Y_train, # Train the model using the training set...\n",
    "          batch_size=batch_size, epochs=num_epochs,\n",
    "          verbose=1, validation_split=0.1) # ...holding out 10% of the data for validation\n",
    "\n",
    "Y_pred = model_1hid.predict(X_test)\n",
    "\n",
    "model_1hid.evaluate(X_test, Y_test, verbose=1) # Evaluate the trained model on the test set!"
   ]
  },
  {
   "cell_type": "code",
   "execution_count": 119,
   "metadata": {},
   "outputs": [
    {
     "name": "stdout",
     "output_type": "stream",
     "text": [
      "[[  1.96323152e-10   7.47175132e-15   4.22704982e-10 ...,   9.99998212e-01\n",
      "    3.41184214e-09   1.08265630e-09]\n",
      " [  8.11503642e-10   3.18931779e-05   9.99968052e-01 ...,   1.80929189e-16\n",
      "    1.73480661e-08   5.70463598e-13]\n",
      " [  5.89601645e-10   9.99986291e-01   1.08550466e-06 ...,   3.56213093e-07\n",
      "    1.20976465e-05   1.98610439e-09]\n",
      " ..., \n",
      " [  1.43452619e-14   1.14754762e-14   3.14173562e-15 ...,   2.77476673e-08\n",
      "    1.60267966e-09   2.93277882e-08]\n",
      " [  3.52300139e-13   3.33880140e-13   1.45971576e-14 ...,   2.10395416e-12\n",
      "    1.26945508e-06   2.54076138e-14]\n",
      " [  1.36736816e-10   1.26476251e-11   6.97557301e-09 ...,   1.85575991e-14\n",
      "    3.60529488e-12   3.67084141e-11]]\n",
      "[7 2 1 ..., 4 5 6]\n",
      "[[ 972    1    2    0    1    1    1    1    1    0]\n",
      " [   0 1125    4    0    0    1    2    1    2    0]\n",
      " [   2    0 1014    4    1    0    1    4    6    0]\n",
      " [   0    0    1  998    0    2    0    2    5    2]\n",
      " [   2    0    1    1  959    0    6    4    2    7]\n",
      " [   3    0    0    9    1  870    3    1    3    2]\n",
      " [   4    2    3    1    1    5  940    1    1    0]\n",
      " [   1    2    7    3    1    0    0 1007    5    2]\n",
      " [   3    0    6    5    1    3    2    4  949    1]\n",
      " [   2    2    1    6    7    2    0    6    4  979]]\n"
     ]
    }
   ],
   "source": [
    "from sklearn.metrics import classification_report,confusion_matrix\n",
    "\n",
    "Y_1hidpred2 = model_1hid.predict(X_test)\n",
    "print(Y_1hidpred2)\n",
    "y_pred1hid2 = np.argmax(Y_1hidpred2, axis=1)\n",
    "print(y_pred1hid2)\n",
    "hid1_conf_mx = confusion_matrix(np.argmax(Y_test,axis=1), y_pred1hid2)\n",
    "print(hid1_conf_mx)"
   ]
  },
  {
   "cell_type": "code",
   "execution_count": 120,
   "metadata": {},
   "outputs": [
    {
     "data": {
      "image/png": "[encoded data removed]",
      "text/plain": [
       "<matplotlib.figure.Figure at 0x1840595add8>"
      ]
     },
     "metadata": {},
     "output_type": "display_data"
    }
   ],
   "source": [
    "plt.matshow(hid1_conf_mx, cmap=plt.cm.gray)\n",
    "plt.show()"
   ]
  },
  {
   "cell_type": "markdown",
   "metadata": {},
   "source": [
    "Two hidden layer neural network"
   ]
  },
  {
   "cell_type": "markdown",
   "metadata": {},
   "source": [
    "    Changed batch_size, num_epochs, hidden_size and activation function"
   ]
  },
  {
   "cell_type": "code",
   "execution_count": 121,
   "metadata": {},
   "outputs": [
    {
     "name": "stdout",
     "output_type": "stream",
     "text": [
      "Train on 54000 samples, validate on 6000 samples\n",
      "Epoch 1/25\n",
      "54000/54000 [==============================] - 5s - loss: 0.3119 - acc: 0.9073 - val_loss: 0.1474 - val_acc: 0.9585\n",
      "Epoch 2/25\n",
      "54000/54000 [==============================] - 4s - loss: 0.1470 - acc: 0.9556 - val_loss: 0.1181 - val_acc: 0.9643\n",
      "Epoch 3/25\n",
      "54000/54000 [==============================] - 5s - loss: 0.0996 - acc: 0.9692 - val_loss: 0.0843 - val_acc: 0.9753\n",
      "Epoch 4/25\n",
      "54000/54000 [==============================] - 4s - loss: 0.0729 - acc: 0.9780 - val_loss: 0.0821 - val_acc: 0.9762\n",
      "Epoch 5/25\n",
      "54000/54000 [==============================] - 4s - loss: 0.0564 - acc: 0.9821 - val_loss: 0.0812 - val_acc: 0.9768\n",
      "Epoch 6/25\n",
      "54000/54000 [==============================] - 5s - loss: 0.0423 - acc: 0.9869 - val_loss: 0.0660 - val_acc: 0.9798\n",
      "Epoch 7/25\n",
      "54000/54000 [==============================] - 4s - loss: 0.0323 - acc: 0.9907 - val_loss: 0.0712 - val_acc: 0.9808\n",
      "Epoch 8/25\n",
      "54000/54000 [==============================] - 4s - loss: 0.0244 - acc: 0.9928 - val_loss: 0.0759 - val_acc: 0.9775\n",
      "Epoch 9/25\n",
      "54000/54000 [==============================] - 4s - loss: 0.0180 - acc: 0.9949 - val_loss: 0.0611 - val_acc: 0.9830\n",
      "Epoch 10/25\n",
      "54000/54000 [==============================] - 4s - loss: 0.0134 - acc: 0.9966 - val_loss: 0.0775 - val_acc: 0.9777\n",
      "Epoch 11/25\n",
      "54000/54000 [==============================] - 4s - loss: 0.0108 - acc: 0.9974 - val_loss: 0.0738 - val_acc: 0.9805\n",
      "Epoch 12/25\n",
      "54000/54000 [==============================] - 4s - loss: 0.0074 - acc: 0.9984 - val_loss: 0.0767 - val_acc: 0.9813\n",
      "Epoch 13/25\n",
      "54000/54000 [==============================] - 4s - loss: 0.0055 - acc: 0.9988 - val_loss: 0.0754 - val_acc: 0.9813\n",
      "Epoch 14/25\n",
      "54000/54000 [==============================] - 4s - loss: 0.0066 - acc: 0.9982 - val_loss: 0.0812 - val_acc: 0.9805\n",
      "Epoch 15/25\n",
      "54000/54000 [==============================] - 4s - loss: 0.0099 - acc: 0.9971 - val_loss: 0.0964 - val_acc: 0.9772\n",
      "Epoch 16/25\n",
      "54000/54000 [==============================] - 4s - loss: 0.0113 - acc: 0.9964 - val_loss: 0.0768 - val_acc: 0.9813\n",
      "Epoch 17/25\n",
      "54000/54000 [==============================] - 4s - loss: 0.0033 - acc: 0.9994 - val_loss: 0.0726 - val_acc: 0.9828\n",
      "Epoch 18/25\n",
      "54000/54000 [==============================] - 4s - loss: 0.0010 - acc: 0.9999 - val_loss: 0.0697 - val_acc: 0.9830\n",
      "Epoch 19/25\n",
      "54000/54000 [==============================] - 4s - loss: 4.8821e-04 - acc: 1.0000 - val_loss: 0.0731 - val_acc: 0.9830\n",
      "Epoch 20/25\n",
      "54000/54000 [==============================] - 5s - loss: 3.3782e-04 - acc: 1.0000 - val_loss: 0.0711 - val_acc: 0.9840\n",
      "Epoch 21/25\n",
      "54000/54000 [==============================] - 4s - loss: 2.5191e-04 - acc: 1.0000 - val_loss: 0.0721 - val_acc: 0.9832\n",
      "Epoch 22/25\n",
      "54000/54000 [==============================] - 4s - loss: 2.0881e-04 - acc: 1.0000 - val_loss: 0.0716 - val_acc: 0.9838\n",
      "Epoch 23/25\n",
      "54000/54000 [==============================] - 4s - loss: 1.7614e-04 - acc: 1.0000 - val_loss: 0.0728 - val_acc: 0.9838\n",
      "Epoch 24/25\n",
      "54000/54000 [==============================] - 4s - loss: 1.4729e-04 - acc: 1.0000 - val_loss: 0.0735 - val_acc: 0.9837cc:\n",
      "Epoch 25/25\n",
      "54000/54000 [==============================] - 4s - loss: 1.2373e-04 - acc: 1.0000 - val_loss: 0.0749 - val_acc: 0.9840\n",
      " 9696/10000 [============================>.] - ETA: 0s"
     ]
    }
   ],
   "source": [
    "from keras.datasets import mnist # subroutines for fetching the MNIST dataset\n",
    "from keras.models import Model # basic class for specifying and training a neural network\n",
    "from keras.layers import Input, Dense # the two types of neural network layer we will be using\n",
    "from keras.utils import np_utils # utilities for one-hot encoding of ground truth values\n",
    "\n",
    "batch_size = 130 # in each iteration, we consider 130 training examples at once\n",
    "num_epochs = 25 # we iterate twenty times over the entire training set\n",
    "hidden_size = 256 # there will be 256 neurons in both hidden layers\n",
    "\n",
    "num_train = 60000 # there are 60000 training examples in MNIST\n",
    "num_test = 10000 # there are 10000 test examples in MNIST\n",
    "\n",
    "height, width, depth = 28, 28, 1 # MNIST images are 28x28 and greyscale\n",
    "num_classes = 10 # there are 10 classes (1 per digit)\n",
    "\n",
    "(X_train, y_train), (X_test, y_test) = mnist.load_data() # fetch MNIST data\n",
    "\n",
    "X_train = X_train.reshape(num_train, height * width) # Flatten data to 1D\n",
    "X_test = X_test.reshape(num_test, height * width) # Flatten data to 1D\n",
    "X_train = X_train.astype('float32') \n",
    "X_test = X_test.astype('float32')\n",
    "X_train /= 255 # Normalise data to [0, 1] range\n",
    "X_test /= 255 # Normalise data to [0, 1] range\n",
    "\n",
    "Y_train = np_utils.to_categorical(y_train, num_classes) # One-hot encode the labels\n",
    "Y_test = np_utils.to_categorical(y_test, num_classes) # One-hot encode the labels\n",
    "\n",
    "inp = Input(shape=(height * width,)) # Our input is a 1D vector of size 784\n",
    "hidden_1 = Dense(hidden_size, activation='tanh')(inp) # First hidden tanh layer\n",
    "hidden_2 = Dense(hidden_size, activation='tanh')(hidden_1) # Second hidden tanh layer\n",
    "out = Dense(num_classes, activation='softmax')(hidden_2) # Output softmax layer\n",
    "\n",
    "model2hid = Model(inputs=inp, outputs=out) # To define a model, just specify its input and output layers\n",
    "\n",
    "model2hid.compile(loss='categorical_crossentropy', # using the cross-entropy loss function\n",
    "              optimizer='adam', # using the Adam optimiser\n",
    "              metrics=['accuracy']) # reporting the accuracy\n",
    "\n",
    "model2hid.fit(X_train, Y_train, # Train the model using the training set...\n",
    "          batch_size=batch_size, epochs=num_epochs,\n",
    "          verbose=1, validation_split=0.1) # ...holding out 10% of the data for validation\n",
    "model2hid.evaluate(X_test, Y_test, verbose=1) # Evaluate the trained model on the test set!\n",
    "y_2hid = model2hid.predict(X_test) # Evaluate the trained model on the test set!"
   ]
  },
  {
   "cell_type": "code",
   "execution_count": 123,
   "metadata": {},
   "outputs": [
    {
     "name": "stdout",
     "output_type": "stream",
     "text": [
      "[[  7.09610929e-12   4.54231074e-14   3.23972862e-11 ...,   1.00000000e+00\n",
      "    6.64721611e-10   8.16807844e-10]\n",
      " [  8.52288726e-12   2.02034780e-08   1.00000000e+00 ...,   3.04520938e-18\n",
      "    1.59482288e-11   2.59788376e-14]\n",
      " [  7.84062225e-12   1.00000000e+00   1.36498786e-08 ...,   7.07367454e-09\n",
      "    4.20613482e-08   1.26824898e-10]\n",
      " ..., \n",
      " [  3.34844512e-15   4.86209776e-16   3.06362208e-16 ...,   5.11773823e-09\n",
      "    1.02946429e-09   3.10795301e-08]\n",
      " [  9.09099185e-13   4.02684613e-13   2.92317238e-16 ...,   3.24847130e-15\n",
      "    3.92954558e-09   1.85618922e-13]\n",
      " [  1.99131311e-09   2.37517313e-15   5.27918022e-11 ...,   5.02694864e-18\n",
      "    3.55299346e-10   5.78044882e-13]]\n",
      "[7 2 1 ..., 4 5 6]\n",
      "[[ 973    0    1    0    0    1    2    1    2    0]\n",
      " [   0 1126    2    0    0    1    2    1    3    0]\n",
      " [   3    0 1012    4    1    0    3    4    5    0]\n",
      " [   0    0    4  997    0    3    0    3    2    1]\n",
      " [   1    0    1    1  964    1    6    1    1    6]\n",
      " [   2    0    0    6    1  873    5    0    3    2]\n",
      " [   4    2    0    0    1    5  945    0    1    0]\n",
      " [   1    4    6    3    1    0    0 1005    1    7]\n",
      " [   1    0    2    3    4    3    2    4  953    2]\n",
      " [   2    2    0    4    8    4    0    6    0  983]]\n"
     ]
    }
   ],
   "source": [
    "from sklearn.metrics import classification_report,confusion_matrix\n",
    "\n",
    "y_2hid = model2hid.predict(X_test)\n",
    "print(y_2hid)\n",
    "y_2hid = np.argmax(y_2hid, axis=1)\n",
    "print(y_2hid)\n",
    "hid2_conf_mx = confusion_matrix(np.argmax(Y_test,axis=1), y_2hid)\n",
    "print(hid2_conf_mx)"
   ]
  },
  {
   "cell_type": "code",
   "execution_count": 124,
   "metadata": {},
   "outputs": [
    {
     "data": {
      "image/png": "[encoded data removed]",
      "text/plain": [
       "<matplotlib.figure.Figure at 0x1846f8e1a58>"
      ]
     },
     "metadata": {},
     "output_type": "display_data"
    }
   ],
   "source": [
    "plt.matshow(hid2_conf_mx, cmap=plt.cm.gray)\n",
    "plt.show()"
   ]
  },
  {
   "cell_type": "markdown",
   "metadata": {},
   "source": [
    "  RBM"
   ]
  },
  {
   "cell_type": "code",
   "execution_count": 69,
   "metadata": {},
   "outputs": [
    {
     "name": "stdout",
     "output_type": "stream",
     "text": [
      "Input X shape (70000, 784)\n"
     ]
    }
   ],
   "source": [
    "import numpy as np\n",
    "from sklearn.datasets import fetch_mldata\n",
    "mnist = fetch_mldata('MNIST original')\n",
    "X, Y = mnist.data, mnist.target\n",
    "X = np.asarray( X, 'float32')\n",
    "# Scaling between 0 and 1\n",
    "X = (X - np.min(X, 0)) / (np.max(X, 0) + 0.0001)  # 0-1 scaling\n",
    "# Convert to binary images\n",
    "X = X > 0.5\n",
    "print ('Input X shape', X.shape)"
   ]
  },
  {
   "cell_type": "markdown",
   "metadata": {},
   "source": [
    "  Here learning rate, batch size,n_iter and test_size are changed"
   ]
  },
  {
   "cell_type": "code",
   "execution_count": 70,
   "metadata": {},
   "outputs": [
    {
     "name": "stdout",
     "output_type": "stream",
     "text": [
      "[BernoulliRBM] Iteration 1, pseudo-likelihood = -95.45, time = 26.74s\n",
      "[BernoulliRBM] Iteration 2, pseudo-likelihood = -84.97, time = 29.63s\n",
      "[BernoulliRBM] Iteration 3, pseudo-likelihood = -81.70, time = 30.22s\n",
      "[BernoulliRBM] Iteration 4, pseudo-likelihood = -82.61, time = 29.88s\n",
      "[BernoulliRBM] Iteration 5, pseudo-likelihood = -80.45, time = 29.02s\n",
      "[BernoulliRBM] Iteration 6, pseudo-likelihood = -85.27, time = 29.79s\n",
      "Score:                precision    recall  f1-score   support\n",
      "\n",
      "        0.0       0.97      0.99      0.98       660\n",
      "        1.0       0.98      0.99      0.99       779\n",
      "        2.0       0.96      0.98      0.97       688\n",
      "        3.0       0.96      0.95      0.96       733\n",
      "        4.0       0.97      0.97      0.97       640\n",
      "        5.0       0.96      0.93      0.95       651\n",
      "        6.0       0.98      0.98      0.98       738\n",
      "        7.0       0.98      0.97      0.98       724\n",
      "        8.0       0.96      0.96      0.96       672\n",
      "        9.0       0.95      0.96      0.95       715\n",
      "\n",
      "avg / total       0.97      0.97      0.97      7000\n",
      "\n"
     ]
    }
   ],
   "source": [
    "from sklearn import cross_validation\n",
    "from sklearn.pipeline import Pipeline\n",
    "from sklearn import linear_model\n",
    "from sklearn.neural_network import BernoulliRBM\n",
    "from sklearn import svm\n",
    "from sklearn import metrics\n",
    "rbm = BernoulliRBM(n_components=200, learning_rate=0.03, batch_size=8, n_iter=6, verbose=True, random_state=None)\n",
    "sv = clf = svm.SVC(gamma=0.002, C=100.)\n",
    "clf = Pipeline(steps=[('rbm', rbm), ('clf', sv)])\n",
    "X_train, X_test, Y_train, Y_test = cross_validation.train_test_split( X, y, test_size=0.1, random_state=0)\n",
    "clf.fit(X_train, Y_train)\n",
    "Y_pred = clf.predict(X_test)\n",
    "print ('Score:  ',(metrics.classification_report(Y_test, Y_pred)))"
   ]
  },
  {
   "cell_type": "markdown",
   "metadata": {},
   "source": [
    "  Decision tree"
   ]
  },
  {
   "cell_type": "markdown",
   "metadata": {},
   "source": [
    "Here training and test ratio is changed"
   ]
  },
  {
   "cell_type": "code",
   "execution_count": 79,
   "metadata": {},
   "outputs": [
    {
     "data": {
      "text/plain": [
       "4.6727507958375005"
      ]
     },
     "execution_count": 79,
     "metadata": {},
     "output_type": "execute_result"
    }
   ],
   "source": [
    "from sklearn.metrics import mean_squared_error\n",
    "from sklearn.tree import DecisionTreeClassifier\n",
    "\n",
    "tree_mnist = DecisionTreeClassifier()\n",
    "a = tree_mnist.fit(X2_train,y2_train)\n",
    "tree_predictions = a.predict(X2_test)\n",
    "\n",
    "tree_mse = mean_squared_error(tree_predictions, y2_test)\n",
    "tree_rmse = np.sqrt(tree_mse)\n",
    "tree_rmse"
   ]
  },
  {
   "cell_type": "code",
   "execution_count": 129,
   "metadata": {},
   "outputs": [
    {
     "name": "stdout",
     "output_type": "stream",
     "text": [
      "[[ 97 100  91  99 100  89 101 116  84 103]\n",
      " [118 128  89 120 117  93 110 117 108 135]\n",
      " [123 107  94 111 117  87  96  79 110 108]\n",
      " [100 112 108 107  92 109  87 106  96  93]\n",
      " [114 108 107  78  79  93 105  96  98 104]\n",
      " [ 77 103 100  84  91  73  91  92  84  97]\n",
      " [109 100  89  88  83  96  89 102 100 102]\n",
      " [ 94 135 108 117  80  86 104 102 115  87]\n",
      " [465 596 527 492 508 452 503 480 496 506]\n",
      " [749 793 810 734 577 660 604 685 619 727]]\n"
     ]
    }
   ],
   "source": [
    "from sklearn.metrics import confusion_matrix\n",
    "dt_conf_mx = confusion_matrix(y2_test, tree_predictions)\n",
    "print(dt_conf_mx)"
   ]
  },
  {
   "cell_type": "code",
   "execution_count": 131,
   "metadata": {},
   "outputs": [
    {
     "data": {
      "image/png": "[encoded data removed]",
      "text/plain": [
       "<matplotlib.figure.Figure at 0x1840489b668>"
      ]
     },
     "metadata": {},
     "output_type": "display_data"
    }
   ],
   "source": [
    "plt.matshow(dt_conf_mx, cmap=plt.cm.gray)\n",
    "plt.show()"
   ]
  },
  {
   "cell_type": "code",
   "execution_count": 84,
   "metadata": {},
   "outputs": [
    {
     "name": "stdout",
     "output_type": "stream",
     "text": [
      "0.0996\n"
     ]
    }
   ],
   "source": [
    "from sklearn import metrics\n",
    "print (metrics.accuracy_score(tree_predictions, y2_test))"
   ]
  },
  {
   "cell_type": "markdown",
   "metadata": {},
   "source": [
    "    Random Forest"
   ]
  },
  {
   "cell_type": "code",
   "execution_count": 91,
   "metadata": {},
   "outputs": [],
   "source": [
    "Xf_train, Xf_test, yf_train, yf_test = X[:50000], X[50000:], y[:50000], y[50000:]"
   ]
  },
  {
   "cell_type": "code",
   "execution_count": 92,
   "metadata": {},
   "outputs": [
    {
     "data": {
      "text/plain": [
       "(50000, 784)"
      ]
     },
     "execution_count": 92,
     "metadata": {},
     "output_type": "execute_result"
    }
   ],
   "source": [
    "shuffle_index = np.random.permutation(50000)\n",
    "Xf_train, yf_train = Xf_train[shuffle_index], yf_train[shuffle_index]\n",
    "Xf_train.shape"
   ]
  },
  {
   "cell_type": "code",
   "execution_count": 93,
   "metadata": {},
   "outputs": [
    {
     "data": {
      "text/plain": [
       "RandomForestClassifier(bootstrap=True, class_weight=None, criterion='gini',\n",
       "            max_depth=None, max_features='auto', max_leaf_nodes=None,\n",
       "            min_impurity_decrease=0.0, min_impurity_split=None,\n",
       "            min_samples_leaf=1, min_samples_split=2,\n",
       "            min_weight_fraction_leaf=0.0, n_estimators=100, n_jobs=1,\n",
       "            oob_score=False, random_state=None, verbose=0,\n",
       "            warm_start=False)"
      ]
     },
     "execution_count": 93,
     "metadata": {},
     "output_type": "execute_result"
    }
   ],
   "source": [
    "from sklearn.ensemble import RandomForestClassifier\n",
    "\n",
    "rf = RandomForestClassifier(n_estimators=100)\n",
    "rf.fit(Xf_train,yf_train)"
   ]
  },
  {
   "cell_type": "code",
   "execution_count": 96,
   "metadata": {},
   "outputs": [
    {
     "data": {
      "text/plain": [
       "((20000,), (20000, 784))"
      ]
     },
     "execution_count": 96,
     "metadata": {},
     "output_type": "execute_result"
    }
   ],
   "source": [
    "y_rf_pred.shape , Xf_test.shape"
   ]
  },
  {
   "cell_type": "code",
   "execution_count": 98,
   "metadata": {},
   "outputs": [
    {
     "name": "stdout",
     "output_type": "stream",
     "text": [
      "0.60355\n"
     ]
    }
   ],
   "source": [
    "from sklearn import metrics\n",
    "y_rf_pred = rf.predict(Xf_test)\n",
    "\n",
    "print(metrics.accuracy_score(y_rf_pred,yf_test))"
   ]
  },
  {
   "cell_type": "code",
   "execution_count": 126,
   "metadata": {},
   "outputs": [
    {
     "name": "stdout",
     "output_type": "stream",
     "text": [
      "[[ 969    1    0    0    0    4    5    1    0    0]\n",
      " [   0 1124    3    3    0    1    4    0    0    0]\n",
      " [   8    1  992    7    5    1    5   12    1    0]\n",
      " [   0    0    9  981    0    8    0   10    2    0]\n",
      " [   1    0    3    0  966    0    7    3    2    0]\n",
      " [   5    2    1   14    2  861    6    1    0    0]\n",
      " [   8    3    0    0    6    1  940    0    0    0]\n",
      " [   1    5   19    1    4    1    0  997    0    0]\n",
      " [  24   57   99  204  109  188   71   32 4241    0]\n",
      " [  53   39   72  208 5704  160   11  685   26    0]]\n"
     ]
    }
   ],
   "source": [
    "from sklearn.metrics import confusion_matrix\n",
    "rf_conf_mx = confusion_matrix(yf_test, y_rf_pred)\n",
    "print (rf_conf_mx)"
   ]
  },
  {
   "cell_type": "code",
   "execution_count": 127,
   "metadata": {},
   "outputs": [
    {
     "data": {
      "image/png": "[encoded data removed]",
      "text/plain": [
       "<matplotlib.figure.Figure at 0x1840486bb70>"
      ]
     },
     "metadata": {},
     "output_type": "display_data"
    }
   ],
   "source": [
    "plt.matshow(rf_conf_mx, cmap=plt.cm.gray)\n",
    "plt.show()"
   ]
  },
  {
   "cell_type": "code",
   "execution_count": 100,
   "metadata": {},
   "outputs": [
    {
     "name": "stdout",
     "output_type": "stream",
     "text": [
      "Score:                precision    recall  f1-score   support\n",
      "\n",
      "        0.0       0.91      0.99      0.95       980\n",
      "        1.0       0.91      0.99      0.95      1135\n",
      "        2.0       0.83      0.96      0.89      1032\n",
      "        3.0       0.69      0.97      0.81      1010\n",
      "        4.0       0.14      0.98      0.25       982\n",
      "        5.0       0.70      0.97      0.81       892\n",
      "        6.0       0.90      0.98      0.94       958\n",
      "        7.0       0.57      0.97      0.72      1028\n",
      "        8.0       0.99      0.84      0.91      5025\n",
      "        9.0       0.00      0.00      0.00      6958\n",
      "\n",
      "avg / total       0.53      0.60      0.55     20000\n",
      "\n"
     ]
    },
    {
     "name": "stderr",
     "output_type": "stream",
     "text": [
      "C:\\ProgramData\\Anaconda3\\lib\\site-packages\\sklearn\\metrics\\classification.py:1135: UndefinedMetricWarning: Precision and F-score are ill-defined and being set to 0.0 in labels with no predicted samples.\n",
      "  'precision', 'predicted', average, warn_for)\n"
     ]
    }
   ],
   "source": [
    "from sklearn import cross_validation\n",
    "from sklearn import metrics\n",
    "\n",
    "print ('Score:  ',(metrics.classification_report(yf_test, y_rf_pred)))"
   ]
  },
  {
   "cell_type": "code",
   "execution_count": 101,
   "metadata": {},
   "outputs": [
    {
     "data": {
      "text/plain": [
       "((63000, 784), (20000,))"
      ]
     },
     "execution_count": 101,
     "metadata": {},
     "output_type": "execute_result"
    }
   ],
   "source": [
    "X_train.shape, y_rf_pred.shape"
   ]
  },
  {
   "cell_type": "code",
   "execution_count": 102,
   "metadata": {},
   "outputs": [
    {
     "data": {
      "text/plain": [
       "(70000, 784)"
      ]
     },
     "execution_count": 102,
     "metadata": {},
     "output_type": "execute_result"
    }
   ],
   "source": [
    "Xforest, yforest = mnist[\"data\"], mnist[\"target\"]\n",
    "Xforest.shape"
   ]
  }
 ],
 "metadata": {
  "kernelspec": {
   "display_name": "Python 3",
   "language": "python",
   "name": "python3"
  },
  "toc": {
   "nav_menu": {},
   "number_sections": true,
   "sideBar": true,
   "skip_h1_title": false,
   "toc_cell": false,
   "toc_position": {},
   "toc_section_display": "block",
   "toc_window_display": false
  }
 },
 "nbformat": 4,
 "nbformat_minor": 2
}
